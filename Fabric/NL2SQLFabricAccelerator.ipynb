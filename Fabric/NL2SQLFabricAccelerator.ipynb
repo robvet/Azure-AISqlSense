{
 "cells": [
  {
   "cell_type": "markdown",
   "metadata": {},
   "source": [
    "# Natural_Language-2-SQL\n",
    "#### Dependencies/Configuration\n",
    "##### (Ctrl/Enter to render Markdown)"
   ]
  },
  {
   "cell_type": "markdown",
   "metadata": {},
   "source": []
  },
  {
   "cell_type": "code",
   "execution_count": 1,
   "metadata": {},
   "outputs": [
    {
     "data": {
      "text/markdown": [
       "#### Logger created..."
      ],
      "text/plain": [
       "<IPython.core.display.Markdown object>"
      ]
     },
     "metadata": {},
     "output_type": "display_data"
    },
    {
     "data": {
      "text/markdown": [
       "##### Depedencies loaded..."
      ],
      "text/plain": [
       "<IPython.core.display.Markdown object>"
      ]
     },
     "metadata": {},
     "output_type": "display_data"
    }
   ],
   "source": [
    "# This code block imports necessary libraries and modules for connecting to databases, processing data, \n",
    "# and utilizing the LangChain framework for SQL generation from natural language. It also sets up \n",
    "# environment variables and defines a function for Markdown display in Jupyter notebooks.\n",
    "import os\n",
    "import pandas as pd\n",
    "import pyodbc\n",
    "from common.prompts import MSSQL_AGENT_PREFIX\n",
    "from IPython.display import Markdown, HTML, display  \n",
    "from dotenv import load_dotenv\n",
    "import logging\n",
    "import sys\n",
    "\n",
    "# dependencies to use EntraID/managed identity authentication\n",
    "import struct\n",
    "from azure.identity import DefaultAzureCredential, get_bearer_token_provider,InteractiveBrowserCredential\n",
    "\n",
    "# LangChain dependencies\n",
    "from langchain_openai import AzureChatOpenAI\n",
    "from langchain_community.agent_toolkits import create_sql_agent, SQLDatabaseToolkit\n",
    "from langchain.agents import initialize_agent\n",
    "from langchain.agents import Tool\n",
    "from langchain.agents import create_sql_agent  # No longer in agent_toolkits\n",
    "from langchain.sql_database import SQLDatabase  # Toolkit is replaced with SQLDatabase\n",
    "from langchain.agents import AgentExecutor\n",
    "from langchain.callbacks.manager import CallbackManager\n",
    "from langchain.memory import ConversationBufferMemory\n",
    "\n",
    "# Database dependencies\n",
    "from sqlalchemy import create_engine, inspect, text, event\n",
    "from sqlalchemy.engine import URL\n",
    "\n",
    "# Flag that controls whether to show query execution steps\n",
    "show_query_execution_steps = True #False #True\n",
    "\n",
    "# Function to print comments using markdown\n",
    "def printmd(string):\n",
    "    display(Markdown(string))\n",
    "\n",
    "# load secrets from .env file\n",
    "load_dotenv(\"credentials.env\")\n",
    "\n",
    "# validate that the environment variables are set\n",
    "if \"AZURE_OPENAI_API_VERSION\" not in os.environ:\n",
    "    raise ValueError(\"Please set the AZURE_OPENAI_API_VERSION environment variable in the credentials.env file.\")\n",
    "if \"AZURE_OPENAI_API_VERSION\" not in os.environ:\n",
    "    raise ValueError(\"Please set the AZURE_OPENAI_API_VERSION environment variable in the credentials.env file.\")\n",
    "else:\n",
    "    app_env = os.environ[\"AZURE_OPENAI_API_VERSION\"]\n",
    "\n",
    "\n",
    "# This code block sets up logging for the application. \n",
    "# It defines a custom log format that includes the timestamp, # logger name, log level, and the log message. # \n",
    "\n",
    "# Define a custom log format\n",
    "log_format = '%(asctime)s - %(name)s - %(levelname)s - %(message)s'\n",
    "\n",
    "# Python Logging Levels:\n",
    "# DEBUG: Detailed information, typically of interest only when diagnosing problems.\n",
    "# INFO: Confirmation that things are working as expected.\n",
    "# WARNING: An indication that something unexpected happened, or indicative of some problem in the near future (e.g., ‘disk space low’). The software is still working as expected.\n",
    "# ERROR: Due to a more serious problem, the software has not been able to perform some function.\n",
    "# CRITICAL: A very serious error, indicating that the program itself may be unable to continue running.\n",
    "\n",
    "# logging.basicConfig(level=logging.DEBUG)\n",
    "# logging.basicConfig(level=logging.DEBUG, format=log_format)\n",
    "logging.basicConfig(level=logging.INFO, format=log_format)\n",
    "\n",
    "# Create a logger\n",
    "logger = logging.getLogger('langchain')\n",
    "\n",
    "printmd(\"#### Logger created...\")\n",
    "\n",
    "printmd(\"##### Depedencies loaded...\")"
   ]
  },
  {
   "cell_type": "markdown",
   "metadata": {},
   "source": [
    "#### Enable Logging"
   ]
  },
  {
   "cell_type": "code",
   "execution_count": null,
   "metadata": {},
   "outputs": [],
   "source": [
    "# # This code block sets up logging for the application. \n",
    "# # It defines a custom log format that includes the timestamp, # logger name, log level, and the log message. # \n",
    "\n",
    "# # Define a custom log format\n",
    "# log_format = '%(asctime)s - %(name)s - %(levelname)s - %(message)s'\n",
    "\n",
    "# # Python Logging Levels:\n",
    "# # DEBUG: Detailed information, typically of interest only when diagnosing problems.\n",
    "# # INFO: Confirmation that things are working as expected.\n",
    "# # WARNING: An indication that something unexpected happened, or indicative of some problem in the near future (e.g., ‘disk space low’). The software is still working as expected.\n",
    "# # ERROR: Due to a more serious problem, the software has not been able to perform some function.\n",
    "# # CRITICAL: A very serious error, indicating that the program itself may be unable to continue running.\n",
    "\n",
    "# # logging.basicConfig(level=logging.DEBUG)\n",
    "# # logging.basicConfig(level=logging.DEBUG, format=log_format)\n",
    "# logging.basicConfig(level=logging.INFO, format=log_format)\n",
    "\n",
    "# # Create a logger\n",
    "# logger = logging.getLogger('langchain')\n",
    "\n",
    "# printmd(\"#### Logger created...\")"
   ]
  },
  {
   "cell_type": "markdown",
   "metadata": {},
   "source": [
    "#### Determine if we will use DefaultAzureCredential object for DB and AI connections"
   ]
  },
  {
   "cell_type": "code",
   "execution_count": null,
   "metadata": {},
   "outputs": [],
   "source": [
    "# check our environmental variables to see if we have defined a SQL username and an OpenAI API key\n",
    "# we will use the presence or absence of these variables to set boolean values which can be used later\n",
    "# when we create the SQL DB engine/connection and the connection to our LLM\n",
    "# if these values due not exist or are empty strings, the DefaultAzureCredential object will be used for these connections\n",
    "\n",
    "if \"SQL_SERVER_USERNAME\" not in os.environ: \n",
    "    sql_use_default_credential=True\n",
    "else:\n",
    "    if os.environ[\"SQL_SERVER_USERNAME\"] == \"\":\n",
    "        sql_use_default_credential=True\n",
    "    else:\n",
    "        sql_use_default_credential=False\n",
    "\n",
    "if \"AZURE_OPENAI_API_KEY\" not in os.environ: \n",
    "    llm_use_default_credential=True\n",
    "else:\n",
    "    if os.environ[\"AZURE_OPENAI_API_KEY\"] == \"\":\n",
    "        llm_use_default_credential=True\n",
    "    else:\n",
    "        llm_use_default_credential=False\n",
    "\n",
    "if sql_use_default_credential:\n",
    "    printmd (\"##### SQL_SERVER_USERNAME not defined or empty string.  We will attempt to use DefaultAzureCredential for our SQL connection.\")\n",
    "else:\n",
    "    printmd (\"##### SQL_SERVER_USERNAME found.  We will use username and password authentication for our SQL connection\")\n",
    "\n",
    "if llm_use_default_credential:\n",
    "    printmd (\"##### AZURE_OPENAI_API_KEY not defined or empty string.  We will attempt to use DefaultAzureCredential for our LLM connection.\") \n",
    "else:\n",
    "    printmd (\"##### AZURE_OPENAI_API_KEY found.  We will use this API key for our LLM connection.\")"
   ]
  },
  {
   "cell_type": "markdown",
   "metadata": {},
   "source": [
    "##### Connect to Database and extract metadata -- Using SqlAlchemy and pyodbc   "
   ]
  },
  {
   "cell_type": "code",
   "execution_count": null,
   "metadata": {},
   "outputs": [],
   "source": [
    "# Connect to Azure SQL Database using SQLAlchemy and pyodbc. \n",
    "# pyodbc is a Python DB API 2 module for ODBC.\n",
    "\n",
    "if sql_use_default_credential:\n",
    "    printmd (\"#### Creating DB Connection with DefaultAzureCredential object.\")\n",
    "    \n",
    "    sql_server = os.environ[\"SQL_SERVER_NAME\"]\n",
    "    sql_database = os.environ[\"SQL_SERVER_DATABASE\"]\n",
    "\n",
    "    SQL_COPT_SS_ACCESS_TOKEN = 1256  # Connection option for access tokens, as defined in msodbcsql.h\n",
    "    TOKEN_URL = \"https://database.windows.net/\"  # The token URL for any Azure SQL database\n",
    "    FABRIC_SCOPE = \"https://fabric.microsoft.com/.default\" \n",
    "    connection_string = \"mssql+pyodbc://\"+sql_server+\"/\"+sql_database+\"?driver=ODBC+Driver+18+for+SQL+Server\"\n",
    "\n",
    "    engine = create_engine(connection_string)\n",
    "\n",
    "    azure_credentials = DefaultAzureCredential()\n",
    "\n",
    "    @event.listens_for(engine, \"do_connect\")\n",
    "    def provide_token(dialect, conn_rec, cargs, cparams):\n",
    "        # remove the \"Trusted_Connection\" parameter that SQLAlchemy adds\n",
    "        cargs[0] = cargs[0].replace(\";Trusted_Connection=Yes\", \"\")\n",
    "\n",
    "        # create token credential\n",
    "        raw_token = azure_credentials.get_token(TOKEN_URL, scopes=[FABRIC_SCOPE]).token.encode(\"utf-16-le\")\n",
    "        token_struct = struct.pack(f\"<I{len(raw_token)}s\", len(raw_token), raw_token)\n",
    "\n",
    "        # apply it to keyword arguments\n",
    "        cparams[\"attrs_before\"] = {SQL_COPT_SS_ACCESS_TOKEN: token_struct}\n",
    "\n",
    "else:\n",
    "    printmd (\"#### Creating DB connection with username and password authentication.\")\n",
    "\n",
    "    # Configuration for the database connection\n",
    "    db_config = {\n",
    "        'drivername': 'mssql+pyodbc',\n",
    "        'host': os.environ[\"SQL_SERVER_NAME\"],\n",
    "        'username': os.environ[\"SQL_SERVER_USERNAME\"],\n",
    "        'password': os.environ[\"SQL_SERVER_PASSWORD\"],\n",
    "        'port': 1433,\n",
    "        'database': os.environ[\"SQL_SERVER_DATABASE\"],\n",
    "        'query': {'driver': 'ODBC Driver 18 for SQL Server'},\n",
    "    }\n",
    "\n",
    "\n",
    "    # Create a URL object for connecting to the database\n",
    "    db_url = URL.create(**db_config)\n",
    "\n",
    "    #####################################################\n",
    "    ## Following Blocks Test the Database Connection:\n",
    "    # Connect to the Azure SQL Database using the URL string\n",
    "    engine = create_engine(db_url)\n",
    "\n",
    "# # inspector = inspect(engine)\n",
    "\n",
    "# # # Retrieve the list of tables\n",
    "# # tables = inspector.get_table_names()\n",
    "\n",
    "# # # Access columns and other schema details\n",
    "# # for table_name in tables:\n",
    "# #     columns = inspector.get_columns(table_name)\n",
    "# #     for column in columns:\n",
    "# #         print(f\"Table: {table_name}, Column: {column['name']}, Type: {column['type']}\")\n",
    "    \n",
    "\n",
    "# Test the connection using the SQLAlchemy 2.0 execution style\n",
    "with engine.connect() as conn:\n",
    "    try:\n",
    "        # Use the text() construct for safer SQL execution\n",
    "        result = conn.execute(text(\"SELECT @@VERSION\"))\n",
    "        version = result.fetchone()\n",
    "        print(\"Connection successful!\")\n",
    "        print(version)\n",
    "    except Exception as e:\n",
    "        print(e)\n",
    "        sys.exit(1)  # Exit the application with a non-zero status code indicating an error\n",
    "## Test Complete\n",
    "#####################################################\n",
    "\n",
    "# Create instance of the SQLDatabase class. \n",
    "try:\n",
    "    # Under the hood,SqlAlchemy's create_engine is used to connect to DB's URI.\n",
    "    # Once connected, SqlAlchemy's MetaData and inspector object are used to intrpspect the DB's schema, \n",
    "    # extracting information about tables, columns, and relationships.\n",
    "    # Using SqlAlchemy's ORM, it can map tables to Python classes and provides methods to query data, \n",
    "    # fetch results, and interact with the databae. \n",
    "    #SqlAlchemy an ORM. It's phasing out the toolkit, so we will use the SQLDatabase class instead\n",
    "    #db = SQLDatabase(engine) #.from_uri(db_url)\n",
    "    db = SQLDatabase(engine)\n",
    "\n",
    "    #db = SQLDatabase.from_uri(db_url, include_tables=filtered_tables)\n",
    "except Exception as e:\n",
    "    print(f\"An error occurred while connecting to the database: {e}\")\n",
    "    db = None  # Optionally, set db to None or handle the error as needed\n",
    "    sys.exit(1)  # Exit the application with a non-zero status code indicating an error\n",
    "\n",
    "# Test the connection to the database by fetching the table names\n",
    "if show_query_execution_steps:\n",
    "    print(\"Found following tables:\", db.get_usable_table_names())\n",
    "\n",
    "printmd(f\"#### Connected to Database!\")"
   ]
  },
  {
   "cell_type": "markdown",
   "metadata": {},
   "source": [
    "##### Initialize AzureOpenAI and Sql Agent"
   ]
  },
  {
   "cell_type": "code",
   "execution_count": null,
   "metadata": {
    "ExecuteTime": {
     "end_time": "2024-08-16T01:38:04.389194700Z",
     "start_time": "2024-08-16T01:38:04.387193300Z"
    }
   },
   "outputs": [],
   "source": [
    "# Initialize instance of AzureChatOpenAI \n",
    "if llm_use_default_credential:\n",
    "    printmd (\"#### Creating LLM with DefaultAzureCredential object.\") \n",
    "    token_provider = get_bearer_token_provider(\n",
    "        DefaultAzureCredential(), \"https://cognitiveservices.azure.com/.default\"\n",
    "    )\n",
    "\n",
    "    llm = AzureChatOpenAI(\n",
    "        deployment_name=os.environ[\"GPT4_DEPLOYMENT_NAME\"], temperature=0.2, max_tokens=2000, api_version=os.environ[\"AZURE_OPENAI_API_VERSION\"],\n",
    "        azure_ad_token_provider=token_provider\n",
    "    )\n",
    "else:\n",
    "    printmd (\"#### Creating LLM using API key.\") \n",
    "    llm = AzureChatOpenAI(deployment_name=os.environ[\"GPT4_DEPLOYMENT_NAME\"], temperature=0.2, max_tokens=2000, api_version=os.environ[\"AZURE_OPENAI_API_VERSION\"])\n",
    "\n",
    "printmd(f\"## LLM Created: {llm.deployment_name}\")\n",
    "\n",
    "system_prompt = \"\"\"\n",
    "    You are an SQL expert with deep expertise in generating accurate and efficient SQL queries from natural language.\n",
    "    Your goal is to understand the user's intent expressed in natural language and translate it into a correct and optimized SQL query that can be executed against the database to retrieve the desired information.\n",
    "    DO NOT make any DML statements (INSERT, UPDATE, DELETE, DROP etc.) to the database.\n",
    "    If the question does not seem related to the database, just return \"I don't know\" as the answer.\n",
    "\"\"\"\n",
    " \n",
    "# SQLDatabaseToolkit is a utility for interacting with a SQL database using a language model (LLM).\n",
    "# It facilitate the integration between the database and the language model, enabling more sophisticated\n",
    "# query generation, execution, and result handling.\n",
    "# Parameters in the SQLDatabase class and the LLM.\n",
    "toolkit = SQLDatabaseToolkit(db=db, llm=llm)\n",
    "\n",
    "# Create the SqlAgent\n",
    "# SqlAgent interacts with directly with the SQL database. \n",
    "# It leverages the LLM to generate SQL queries from natural language input\n",
    "# and then execute these queries on the connected database. \n",
    "# Note how the SqlAgent leverges the SQLDatabaseToolkit and the language model (LLM). \n",
    "try:\n",
    "    agent_executor = create_sql_agent(\n",
    "        prefix=MSSQL_AGENT_PREFIX,\n",
    "        llm=llm,\n",
    "        temperature=0.1,\n",
    "        toolkit=toolkit,\n",
    "        top_k=30,\n",
    "        agent_type=\"openai-tools\",\n",
    "        verbose=show_query_execution_steps, #True,\n",
    "        agent_executor_kwargs={\"return_intermediate_steps\": True},\n",
    "        system_prompt=system_prompt  # Step 2: Pass the system prompt to the AgentExecutor\n",
    "    )\n",
    "except Exception as e:\n",
    "    print(f\"An error occurred while creating the agent_executor: {str(e)}\")\n",
    "    agent_executor = None  # Set agent_executor to None or handle it as needed\n",
    "    sys.exit(1)  # Exit the application with a non-zero status code indicating an error\n",
    "\n",
    "# Continue with the rest of your code, checking if agent_executor was created successfully\n",
    "if agent_executor:\n",
    "    printmd(f\"##### SqlAgent Created\")\n",
    "\n",
    "# Langchain agents use expert/tools. List the tools for SQL Agent\n",
    "agent_executor.tools\n",
    "\n",
    "printmd(f\"#### Complete\")"
   ]
  },
  {
   "cell_type": "markdown",
   "metadata": {},
   "source": [
    "#### Prompt Engineering"
   ]
  },
  {
   "cell_type": "code",
   "execution_count": null,
   "metadata": {
    "ExecuteTime": {
     "start_time": "2024-08-16T01:38:04.388193500Z"
    }
   },
   "outputs": [],
   "source": [
    "# prompting directives at application level. They are sent to the LLM along with the user prompt.\n",
    "prompting_hints = \"\"\"\n",
    "  \n",
    "  loanstable: The loans table contains information about the loan applicant information\n",
    "  Facts you need to know:\n",
    "    - Never fetch more than 500 rows\n",
    "    \n",
    "  \"\"\"\n",
    "# Prompt for the question:\n",
    "prompt = \"\"\"\n",
    "\tPlease produce a table listing Average credit score of applicants by their ownership type\n",
    "\"\"\"\n",
    "\n",
    "# Concatenate the prompting hints and the prompt\n",
    "QUESTION = f\"{prompting_hints} {prompt}\"\n",
    "\n",
    "if show_query_execution_steps:\n",
    "  printmd(f\"{prompting_hints}\")\n",
    "\n",
    "printmd(f\"**User Prompt:** {prompt}\")"
   ]
  },
  {
   "cell_type": "markdown",
   "metadata": {},
   "source": [
    "#### Execute SQL Opeation"
   ]
  },
  {
   "cell_type": "code",
   "execution_count": null,
   "metadata": {
    "ExecuteTime": {
     "start_time": "2024-08-16T01:38:04.390194800Z"
    }
   },
   "outputs": [],
   "source": [
    "# Invoke the SQL agent with the natural language question\n",
    "# The agent will generate a SQL query based on the input question   \n",
    "# and execute the query against the connected database.\n",
    "# The response contains the query result and other relevant information.\n",
    "# The response is a dictionary with keys such as 'query', 'result', 'intermediate_steps', and 'execution_time'.\n",
    "try:\n",
    "    response = agent_executor.invoke(QUESTION) \n",
    "except Exception as e:\n",
    "    response = str(e)\n",
    "\n",
    "# Advanced logging block\n",
    "# Block iterates through the intermediate steps of the response \n",
    "# and prints the action and observation for each step.\n",
    "# This is a common pattern for displaying detailed information based on \n",
    "# the content of data structures and conditional flag in Python\n",
    "# Importantly, the block reveals the agent's decision-making process.\n",
    "if show_query_execution_steps: \n",
    "    # Iterate through each step in the 'intermediate_steps' list from the response\n",
    "    for step in response['intermediate_steps']:\n",
    "         # Check if the current step is a dictionary\n",
    "        if isinstance(step, dict):\n",
    "            # Extract 'action' and 'observation' from the step, defaulting to empty string if not found\n",
    "            action = step.get('action', '')\n",
    "            observation = step.get('observation', '')\n",
    "        # Check if the current step is a tuple (assumed to be a pair of action and observation)\n",
    "        elif isinstance(step, tuple):\n",
    "            # Unpack the tuple directly into action and observation variables\n",
    "            action, observation = step \n",
    "        else:\n",
    "            # Handle unexpected step types by printing a warning and skipping the current iteration\n",
    "            print(f\"Unexpected step type: {type(step)}\")\n",
    "            continue  # Skip this step if it's neither dict nor tuple\n",
    "        # Print the action and observation for the current step\n",
    "        print(f\"Action: {action}\\nObservation: {observation}\\n\")\n",
    "# else:\n",
    "#     # If the flag to show details is not set, indicate that there are no details to show\n",
    "#     print(\"No details to show\")"
   ]
  },
  {
   "cell_type": "markdown",
   "metadata": {},
   "source": [
    "#### Final Answer"
   ]
  },
  {
   "cell_type": "code",
   "execution_count": null,
   "metadata": {
    "ExecuteTime": {
     "start_time": "2024-08-16T01:38:04.392194100Z"
    }
   },
   "outputs": [],
   "source": [
    "import re\n",
    "\n",
    "match = re.search(r'Final Answer:.*?(?=\\n\\n|$)', response[\"output\"], re.DOTALL)\n",
    "final_answer = match.group(0) if match else \"Final Answer not found.\"\n",
    "\n",
    "output_without_final_answer = re.sub(r'Final Answer:.*?(?=\\n\\n|$)', '', response[\"output\"], flags=re.DOTALL).strip()\n",
    "\n",
    "# printmd(f\"**Response:** {response[\"output\"]}\")\n",
    "printmd(f\" User Prompt: {prompt}\")\n",
    "printmd(f\" {final_answer}\")\n",
    "printmd(f\" {output_without_final_answer}\")\n",
    "\n",
    "\n",
    "printmd(f\"## Complete\")"
   ]
  }
 ],
 "metadata": {
  "kernelspec": {
   "display_name": "base",
   "language": "python",
   "name": "python3"
  },
  "language_info": {
   "codemirror_mode": {
    "name": "ipython",
    "version": 3
   },
   "file_extension": ".py",
   "mimetype": "text/x-python",
   "name": "python",
   "nbconvert_exporter": "python",
   "pygments_lexer": "ipython3",
   "version": "3.12.1"
  }
 },
 "nbformat": 4,
 "nbformat_minor": 2
}
