{
 "cells": [
  {
   "cell_type": "markdown",
   "metadata": {},
   "source": [
    "# NL2SQL (leverages the Azure Accelerator)\n",
    "#### Import Dependencies\n",
    "##### (Ctrl/Enter to render Markdown)"
   ]
  },
  {
   "cell_type": "code",
   "execution_count": 1,
   "metadata": {},
   "outputs": [
    {
     "data": {
      "text/markdown": [
       "##### Depedencies loaded..."
      ],
      "text/plain": [
       "<IPython.core.display.Markdown object>"
      ]
     },
     "metadata": {},
     "output_type": "display_data"
    },
    {
     "data": {
      "text/markdown": [
       "##### Logger created..."
      ],
      "text/plain": [
       "<IPython.core.display.Markdown object>"
      ]
     },
     "metadata": {},
     "output_type": "display_data"
    }
   ],
   "source": [
    "# This code block imports necessary libraries and modules for connecting to databases, processing data, \n",
    "# and utilizing the LangChain framework for SQL generation from natural language. It also sets up \n",
    "# environment variables and defines a function for Markdown display in Jupyter notebooks.\n",
    "import os\n",
    "import pandas as pd\n",
    "import pyodbc\n",
    "from prompts.prompts import MSSQL_AGENT_PREFIX\n",
    "from IPython.display import Markdown, HTML, display  \n",
    "from dotenv import load_dotenv\n",
    "import logging\n",
    "import sys\n",
    "import re\n",
    "\n",
    "# LangChain dependencies\n",
    "from langchain_openai import AzureChatOpenAI\n",
    "from langchain_community.agent_toolkits import create_sql_agent, SQLDatabaseToolkit\n",
    "from langchain.agents import initialize_agent\n",
    "from langchain.agents import Tool\n",
    "from langchain.agents import create_sql_agent  # No longer in agent_toolkits\n",
    "from langchain.sql_database import SQLDatabase  # Toolkit is replaced with SQLDatabase\n",
    "from langchain.agents import AgentExecutor\n",
    "\n",
    "from langchain.callbacks.base import BaseCallbackHandler\n",
    "from langchain.callbacks.manager import CallbackManager\n",
    "from langchain.memory import ConversationBufferMemory\n",
    "\n",
    "from langchain_community.callbacks import get_openai_callback\n",
    "from langchain_openai import OpenAI\n",
    "\n",
    "from tiktoken import encoding_for_model\n",
    "from langchain.agents.conversational_chat.prompt import PREFIX, SUFFIX\n",
    "from langchain.agents.conversational_chat.base import ConversationalChatAgent\n",
    "from langchain_core.language_models import BaseLanguageModel\n",
    "from langchain_core.tools import BaseTool\n",
    "\n",
    "# Database dependencies\n",
    "from sqlalchemy import create_engine, inspect, text\n",
    "from sqlalchemy.engine import URL\n",
    "\n",
    "# Flag that controls whether to show query execution steps\n",
    "show_query_execution_steps = True #False #True\n",
    "\n",
    "# Function to print comments using markdown\n",
    "def printmd(string):\n",
    "    display(Markdown(string))\n",
    "\n",
    "# load secrets from .env file\n",
    "# Load the .env file from the 'secrets' subfolder\n",
    "load_dotenv(\"secrets/credentials.env\")\n",
    "\n",
    "# validate that the environment variables are set\n",
    "if \"AZURE_OPENAI_API_VERSION\" not in os.environ:\n",
    "    raise ValueError(\"Please set the AZURE_OPENAI_API_VERSION environment variable in the credentials.env file.\")\n",
    "if \"AZURE_OPENAI_API_VERSION\" not in os.environ:\n",
    "    raise ValueError(\"Please set the AZURE_OPENAI_API_VERSION environment variable in the credentials.env file.\")\n",
    "else:\n",
    "    app_env = os.environ[\"AZURE_OPENAI_API_VERSION\"]\n",
    "\n",
    "printmd(\"##### Depedencies loaded...\")\n",
    "\n",
    "# This code block sets up logging for the application. \n",
    "# It defines a custom log format that includes the timestamp, \n",
    "# logger name, log level, and the log message. # \n",
    "\n",
    "# Define a custom log format\n",
    "log_format = '%(asctime)s - %(name)s - %(levelname)s - %(message)s'\n",
    "\n",
    "# Python Logging Levels:\n",
    "# DEBUG: Detailed information, typically of interest only when diagnosing problems.\n",
    "# INFO: Confirmation that things are working as expected.\n",
    "# WARNING: An indication that something unexpected happened, or indicative of some problem in the near future (e.g., ‘disk space low’). The software is still working as expected.\n",
    "# ERROR: Due to a more serious problem, the software has not been able to perform some function.\n",
    "# CRITICAL: A very serious error, indicating that the program itself may be unable to continue running.\n",
    "\n",
    "# logging.basicConfig(level=logging.DEBUG)\n",
    "# logging.basicConfig(level=logging.DEBUG, format=log_format)\n",
    "\n",
    "logging.basicConfig(level=logging.INFO, format=log_format)\n",
    "\n",
    "logger = logging.getLogger('langchain')\n",
    "\n",
    "printmd(\"##### Logger created...\")"
   ]
  },
  {
   "cell_type": "markdown",
   "metadata": {},
   "source": [
    "#### Enable Logging"
   ]
  },
  {
   "cell_type": "code",
   "execution_count": 2,
   "metadata": {},
   "outputs": [],
   "source": [
    "# # This code block sets up logging for the application. \n",
    "# # It defines a custom log format that includes the timestamp, \n",
    "# # logger name, log level, and the log message. # \n",
    "\n",
    "# # Define a custom log format\n",
    "# log_format = '%(asctime)s - %(name)s - %(levelname)s - %(message)s'\n",
    "\n",
    "# # Python Logging Levels:\n",
    "# # DEBUG: Detailed information, typically of interest only when diagnosing problems.\n",
    "# # INFO: Confirmation that things are working as expected.\n",
    "# # WARNING: An indication that something unexpected happened, or indicative of some problem in the near future (e.g., ‘disk space low’). The software is still working as expected.\n",
    "# # ERROR: Due to a more serious problem, the software has not been able to perform some function.\n",
    "# # CRITICAL: A very serious error, indicating that the program itself may be unable to continue running.\n",
    "\n",
    "# # logging.basicConfig(level=logging.DEBUG)\n",
    "# # logging.basicConfig(level=logging.DEBUG, format=log_format)\n",
    "\n",
    "# logging.basicConfig(level=logging.INFO, format=log_format)\n",
    "\n",
    "# logger = logging.getLogger('langchain')\n",
    "\n",
    "# printmd(\"##### Logger created...\")"
   ]
  },
  {
   "cell_type": "markdown",
   "metadata": {},
   "source": [
    "##### Connect to Database and extract metadata -- Using SqlAlchemy and pyodbc   "
   ]
  },
  {
   "cell_type": "code",
   "execution_count": 3,
   "metadata": {},
   "outputs": [
    {
     "name": "stdout",
     "output_type": "stream",
     "text": [
      "SqlDatabase Initialized - Read Following Tables: ['CheckDetail', 'CheckMaster', 'ClickStreamData', 'HeaderDescriptions', 'SurveyData', 'SurveyMaster', 'clickstream', 'clickstreamfinal', 'sysdiagrams']\n"
     ]
    }
   ],
   "source": [
    "# Connect to Azure SQL Database using SQLAlchemy and pyodbc. \n",
    "\n",
    "#####################################################\n",
    "## Configure database connection:\n",
    "#####################################################\n",
    "db_config = {\n",
    "    'drivername': 'mssql+pyodbc',\n",
    "    'username': os.environ[\"SQL_SERVER_USERNAME\"] + '@' + os.environ[\"SQL_SERVER_NAME\"],\n",
    "    'password': os.environ[\"SQL_SERVER_PASSWORD\"],\n",
    "    'host': os.environ[\"SQL_SERVER_NAME\"],\n",
    "    'port': 1433,\n",
    "    'database': os.environ[\"SQL_SERVER_DATABASE\"],\n",
    "    'query': {'driver': 'ODBC Driver 17 for SQL Server'},\n",
    "}\n",
    "\n",
    "# Create a URL object for connecting to the database\n",
    "db_url = URL.create(**db_config)\n",
    "\n",
    "#####################################################\n",
    "## Test the Database Connection:\n",
    "#####################################################\n",
    "\n",
    "# Connect to the Azure SQL Database using the URL string\n",
    "# engine = create_engine(db_url)\n",
    "\n",
    "# # inspector = inspect(engine)\n",
    "\n",
    "# # # Retrieve the list of tables\n",
    "# # tables = inspector.get_table_names()\n",
    "\n",
    "# # # Access columns and other schema details\n",
    "# # for table_name in tables:\n",
    "# #     columns = inspector.get_columns(table_name)\n",
    "# #     for column in columns:\n",
    "# #         print(f\"Table: {table_name}, Column: {column['name']}, Type: {column['type']}\")\n",
    "       \n",
    "\n",
    "# # Test the connection using the SQLAlchemy 2.0 execution style\n",
    "# with engine.connect() as conn:\n",
    "#     try:\n",
    "#         # Use the text() construct for safer SQL execution\n",
    "#         result = conn.execute(text(\"SELECT @@VERSION\"))\n",
    "#         version = result.fetchone()\n",
    "#         print(\"Connection successful!\")\n",
    "#         print(version)\n",
    "#     except Exception as e:\n",
    "#         print(e)\n",
    "#         sys.exit(1)  # Exit the application with a non-zero status code indicating an error\n",
    "# ## Test Complete\n",
    "# #####################################################\n",
    "\n",
    "# Retrieve and filter table names\n",
    "# with engine.connect() as conn:\n",
    "#     inspector = inspect(conn)\n",
    "#     all_tables = inspector.get_table_names()\n",
    "#     filtered_tables = [table for table in all_tables if table in [\"CheckMaster\", \"CheckDetail\"]]\n",
    "#     print(\"Filtered tables:\", filtered_tables)\n",
    "\n",
    "#####################################################\n",
    "## Create SQLDatabase class\n",
    "#####################################################\n",
    "# Connects to and interacts with an Azure SQL Database.\n",
    "# The class serves as an interface to perform operations like querying data\n",
    "# and fetching results, integrating with the language model.\n",
    "#db = SQLDatabase.from_uri(db_url)\n",
    "\n",
    "try:\n",
    "    # Create instance of the SQLDatabase class. \n",
    "    # Under the hood,SqlAlchemy's create_engine is used to connect to DB's URI.\n",
    "    # Once connected, SqlAlchemy's MetaData and inspector object are used to intrpspect the DB's schema, \n",
    "    # extracting information about tables, columns, and relationships.\n",
    "    # Using SqlAlchemy's ORM, it can map tables to Python classes and provides methods to query data, \n",
    "    # fetch results, and interact with the databae. \n",
    "    #SqlAlchemy an ORM. It's phasing out the toolkit, so we will use the SQLDatabase class instead\n",
    "    db = SQLDatabase.from_uri(db_url)\n",
    "    #db = SQLDatabase.from_uri(db_url, include_tables=filtered_tables)\n",
    "except Exception as e:\n",
    "    print(f\"An error occurred while connecting to the database: {e}\")\n",
    "    logger.error(f\"An error occurred while connecting to the database: {e}\")\n",
    "    db = None  # Optionally, set db to None or handle the error as needed\n",
    "    sys.exit(1)  # Exit the application with a non-zero status code indicating an error\n",
    "\n",
    "# Test the connection to the database by fetching the table names\n",
    "if show_query_execution_steps:\n",
    "    print(\"SqlDatabase Initialized - Read Following Tables: {}\".format(db.get_usable_table_names()))"
   ]
  },
  {
   "cell_type": "markdown",
   "metadata": {},
   "source": []
  },
  {
   "cell_type": "markdown",
   "metadata": {},
   "source": [
    "##### Initialize AzureOpenAI and Sql Agent"
   ]
  },
  {
   "cell_type": "code",
   "execution_count": 4,
   "metadata": {
    "ExecuteTime": {
     "end_time": "2024-08-16T01:38:04.389194700Z",
     "start_time": "2024-08-16T01:38:04.387193300Z"
    }
   },
   "outputs": [
    {
     "data": {
      "text/markdown": [
       "##### Agent Executor Created"
      ],
      "text/plain": [
       "<IPython.core.display.Markdown object>"
      ]
     },
     "metadata": {},
     "output_type": "display_data"
    }
   ],
   "source": [
    "#####################################################\n",
    "## Initialize AzureChatOpenAI\n",
    "#####################################################\n",
    "llm = AzureChatOpenAI(deployment_name=os.environ[\"GPT35_DEPLOYMENT_NAME\"], temperature=0.2, max_tokens=2000, api_version=os.environ[\"AZURE_OPENAI_API_VERSION\"])\n",
    "\n",
    "# llm = AzureChatOpenAI(\n",
    "#     azure_deployment=\"gpt-35-turbo\",  # or your deployment\n",
    "#     api_version=\"2023-06-01-preview\",  # or your api version\n",
    "#     temperature=0,\n",
    "#     max_tokens=None,\n",
    "#     timeout=None,\n",
    "#     max_retries=2,\n",
    "    \n",
    "# printmd(f\"LLM Created: {llm.deployment_name}\")\n",
    "\n",
    "system_prompt = \"\"\"\n",
    "    You are an SQL expert with deep expertise in generating accurate and efficient SQL queries from natural language.\n",
    "    Your goal is to understand the user's intent expressed in natural language and translate it into a correct and optimized SQL query that can be executed against the database to retrieve the desired information.\n",
    "    DO NOT make any DML statements (INSERT, UPDATE, DELETE, DROP etc.) to the database.\n",
    "    If the question does not seem related to the database, just return \"I don't know\" as the answer.\n",
    "\"\"\"\n",
    " \n",
    "#####################################################\n",
    "## Create SQLDatabaseToolkit\n",
    "#####################################################\n",
    "# SQLDatabaseToolkit is a utility for interacting with a SQL database using a language model (LLM).\n",
    "# It facilitate the integration between the database and the language model, enabling more sophisticated\n",
    "# query generation, execution, and result handling.\n",
    "# Parameters in the SQLDatabase class and the LLM.\n",
    "toolkit = SQLDatabaseToolkit(db=db, llm=llm)\n",
    "\n",
    "#####################################################\n",
    "## Create SqlAgent\n",
    "#####################################################\n",
    "# SqlAgent interacts with directly with the SQL database. \n",
    "# It leverages the LLM to generate SQL queries from natural language input\n",
    "# and then execute these queries on the connected database. \n",
    "# Note how the SqlAgent leverges the SQLDatabaseToolkit and the language model (LLM). \n",
    "try:\n",
    "    agent_executor = create_sql_agent(\n",
    "        prefix=MSSQL_AGENT_PREFIX,\n",
    "        llm=llm,\n",
    "        #prompt=full_prompt,\n",
    "        temperature=0.1,\n",
    "        toolkit=toolkit,\n",
    "        top_k=30,\n",
    "        agent_type=\"openai-tools\",\n",
    "        verbose=show_query_execution_steps, #True,\n",
    "        agent_executor_kwargs={\"return_intermediate_steps\": True},\n",
    "        system_prompt=system_prompt\n",
    "        # stream_runnble=False\n",
    "    )\n",
    "except Exception as e:\n",
    "    print(f\"An error occurred while creating the agent_executor: {str(e)}\")\n",
    "    agent_executor = None  # Set agent_executor to None or handle it as needed\n",
    "    sys.exit(1)  # Exit the application with a non-zero status code indicating an error\n",
    "\n",
    "#prompts = agent_executor.get_prompts\n",
    "# for key in prompts.keys():\n",
    "#     print(key)\n",
    "\n",
    "# Continue with the rest of your code, checking if agent_executor was created successfully\n",
    "if agent_executor:\n",
    "    printmd(f\"##### Agent Executor Created\")\n",
    "else:\n",
    "    printmd(f\"##### Agent Executor Not Created\")\n",
    "    sys.exit(1)  # Exit the application with a non-zero status code indicating an error"
   ]
  },
  {
   "cell_type": "markdown",
   "metadata": {},
   "source": [
    "#### Prompt Engineering"
   ]
  },
  {
   "cell_type": "code",
   "execution_count": 5,
   "metadata": {
    "ExecuteTime": {
     "start_time": "2024-08-16T01:38:04.388193500Z"
    }
   },
   "outputs": [
    {
     "name": "stdout",
     "output_type": "stream",
     "text": [
      "User Prompt: \n",
      "\t\tWhat is the most popular menu item and what are it's total sales?\n",
      "\n"
     ]
    }
   ],
   "source": [
    "#####################################################\n",
    "## Set User Prompt\n",
    "#####################################################\n",
    "user_prompt = \"\"\"\n",
    "\t\tWhat is the most popular menu item and what are it's total sales?\n",
    "\"\"\"\n",
    "\n",
    "print(\"User Prompt: {}\".format(user_prompt))"
   ]
  },
  {
   "cell_type": "markdown",
   "metadata": {},
   "source": [
    "#### Execute SQL Opeation"
   ]
  },
  {
   "cell_type": "code",
   "execution_count": 6,
   "metadata": {
    "ExecuteTime": {
     "start_time": "2024-08-16T01:38:04.390194800Z"
    }
   },
   "outputs": [
    {
     "name": "stdout",
     "output_type": "stream",
     "text": [
      "\n",
      "\n",
      "\u001b[1m> Entering new SQL Agent Executor chain...\u001b[0m\n"
     ]
    },
    {
     "name": "stderr",
     "output_type": "stream",
     "text": [
      "2024-08-27 18:13:52,812 - httpx - INFO - HTTP Request: POST https://ai-west-openai.openai.azure.com//openai/deployments/gpt4-o/chat/completions?api-version=2023-12-01-preview \"HTTP/1.1 200 OK\"\n"
     ]
    },
    {
     "name": "stdout",
     "output_type": "stream",
     "text": [
      "\u001b[32;1m\u001b[1;3m\n",
      "Invoking: `sql_db_list_tables` with `{}`\n",
      "\n",
      "\n",
      "\u001b[0m\u001b[38;5;200m\u001b[1;3mCheckDetail, CheckMaster, ClickStreamData, HeaderDescriptions, SurveyData, SurveyMaster, clickstream, clickstreamfinal, sysdiagrams\u001b[0m"
     ]
    },
    {
     "name": "stderr",
     "output_type": "stream",
     "text": [
      "2024-08-27 18:13:53,199 - httpx - INFO - HTTP Request: POST https://ai-west-openai.openai.azure.com//openai/deployments/gpt4-o/chat/completions?api-version=2023-12-01-preview \"HTTP/1.1 200 OK\"\n"
     ]
    },
    {
     "name": "stdout",
     "output_type": "stream",
     "text": [
      "\u001b[32;1m\u001b[1;3m\n",
      "Invoking: `sql_db_schema` with `{'table_names': 'CheckDetail, CheckMaster'}`\n",
      "\n",
      "\n",
      "\u001b[0m\u001b[33;1m\u001b[1;3m\n",
      "CREATE TABLE [CheckDetail] (\n",
      "\t[CheckKey] NVARCHAR(50) COLLATE SQL_Latin1_General_CP1_CI_AS NULL, \n",
      "\t[ActualDate] NVARCHAR(50) COLLATE SQL_Latin1_General_CP1_CI_AS NULL, \n",
      "\t[CheckNumber] NVARCHAR(50) COLLATE SQL_Latin1_General_CP1_CI_AS NULL, \n",
      "\t[ItemNumber] NVARCHAR(50) COLLATE SQL_Latin1_General_CP1_CI_AS NULL, \n",
      "\t[Description] NVARCHAR(50) COLLATE SQL_Latin1_General_CP1_CI_AS NULL, \n",
      "\t[Category] NVARCHAR(50) COLLATE SQL_Latin1_General_CP1_CI_AS NULL, \n",
      "\t[ItemSubCategory] NVARCHAR(50) COLLATE SQL_Latin1_General_CP1_CI_AS NULL, \n",
      "\t[Quantity] NVARCHAR(50) COLLATE SQL_Latin1_General_CP1_CI_AS NULL, \n",
      "\t[Price] NVARCHAR(50) COLLATE SQL_Latin1_General_CP1_CI_AS NULL, \n",
      "\t[EmployeeNumber] NVARCHAR(50) COLLATE SQL_Latin1_General_CP1_CI_AS NULL, \n",
      "\t[TableNumber] NVARCHAR(50) COLLATE SQL_Latin1_General_CP1_CI_AS NULL, \n",
      "\t[GuestCount] NVARCHAR(50) COLLATE SQL_Latin1_General_CP1_CI_AS NULL, \n",
      "\tCONSTRAINT [FK_CheckDetail_CheckMaster2] FOREIGN KEY([CheckKey]) REFERENCES [CheckMaster] ([CheckKey])\n",
      ")\n",
      "\n",
      "/*\n",
      "3 rows from CheckDetail table:\n",
      "CheckKey\tActualDate\tCheckNumber\tItemNumber\tDescription\tCategory\tItemSubCategory\tQuantity\tPrice\tEmployeeNumber\tTableNumber\tGuestCount\n",
      "3521186077\t6/9/2024\t3020097\t101040\tAPPLE JUICE\tNon-Alcoholic Beverage\tNon-Alcoholic Beverage\t0\t0\t1713219\t31\t4\n",
      "3521186077\t6/9/2024\t3020097\t9845\tKID JUICE\tNon-Alcoholic Beverage\tNon-Alcoholic Beverage\t0\t0\t1713219\t31\t4\n",
      "3521186077\t6/9/2024\t3020097\t9829\tWATER\tNon-Alcoholic Beverage\tNon-Alcoholic Beverage\t1\t0\t1713219\t31\t4\n",
      "*/\n",
      "\n",
      "\n",
      "CREATE TABLE [CheckMaster] (\n",
      "\t[CheckKey] NVARCHAR(50) COLLATE SQL_Latin1_General_CP1_CI_AS NULL, \n",
      "\t[Account] NVARCHAR(50) COLLATE SQL_Latin1_General_CP1_CI_AS NULL, \n",
      "\t[Unit] NVARCHAR(50) COLLATE SQL_Latin1_General_CP1_CI_AS NULL, \n",
      "\t[ActualDate] NVARCHAR(50) COLLATE SQL_Latin1_General_CP1_CI_AS NULL, \n",
      "\t[CheckNumber] NVARCHAR(50) COLLATE SQL_Latin1_General_CP1_CI_AS NULL, \n",
      "\t[StoreName] NVARCHAR(50) COLLATE SQL_Latin1_General_CP1_CI_AS NULL, \n",
      "\t[Address1] NVARCHAR(50) COLLATE SQL_Latin1_General_CP1_CI_AS NULL, \n",
      "\t[City] NVARCHAR(50) COLLATE SQL_Latin1_General_CP1_CI_AS NULL, \n",
      "\t[State] NVARCHAR(50) COLLATE SQL_Latin1_General_CP1_CI_AS NULL, \n",
      "\t[Zip] NVARCHAR(50) COLLATE SQL_Latin1_General_CP1_CI_AS NULL, \n",
      "\t[EmployeeNumber] NVARCHAR(50) COLLATE SQL_Latin1_General_CP1_CI_AS NULL, \n",
      "\t[EmployeeFirstName] NVARCHAR(50) COLLATE SQL_Latin1_General_CP1_CI_AS NULL, \n",
      "\t[EmployeeLastName] NVARCHAR(50) COLLATE SQL_Latin1_General_CP1_CI_AS NULL, \n",
      "\t[CheckType] NVARCHAR(50) COLLATE SQL_Latin1_General_CP1_CI_AS NULL, \n",
      "\t[TableNumber] NVARCHAR(50) COLLATE SQL_Latin1_General_CP1_CI_AS NULL, \n",
      "\t[CheckOpenDate] NVARCHAR(50) COLLATE SQL_Latin1_General_CP1_CI_AS NULL, \n",
      "\t[CheckOpenTime] NVARCHAR(50) COLLATE SQL_Latin1_General_CP1_CI_AS NULL, \n",
      "\t[CheckCloseDate] NVARCHAR(50) COLLATE SQL_Latin1_General_CP1_CI_AS NULL, \n",
      "\t[CheckCloseTime] NVARCHAR(50) COLLATE SQL_Latin1_General_CP1_CI_AS NULL, \n",
      "\t[SubTotal] NVARCHAR(50) COLLATE SQL_Latin1_General_CP1_CI_AS NULL, \n",
      "\t[Tax] NVARCHAR(50) COLLATE SQL_Latin1_General_CP1_CI_AS NULL, \n",
      "\t[Total] NVARCHAR(50) COLLATE SQL_Latin1_General_CP1_CI_AS NULL, \n",
      "\t[GuestCount] NVARCHAR(50) COLLATE SQL_Latin1_General_CP1_CI_AS NULL, \n",
      "\t[RootCheckFlag] NVARCHAR(50) COLLATE SQL_Latin1_General_CP1_CI_AS NULL, \n",
      "\t[TenderType] NVARCHAR(50) COLLATE SQL_Latin1_General_CP1_CI_AS NULL, \n",
      "\t[Description2] NVARCHAR(50) COLLATE SQL_Latin1_General_CP1_CI_AS NULL, \n",
      "\t[Amount] NVARCHAR(50) COLLATE SQL_Latin1_General_CP1_CI_AS NULL, \n",
      "\t[TipAmount] NVARCHAR(50) COLLATE SQL_Latin1_General_CP1_CI_AS NULL, \n",
      "\t[TenderDate] NVARCHAR(50) COLLATE SQL_Latin1_General_CP1_CI_AS NULL, \n",
      "\t[MaskedCardNumber] NVARCHAR(50) COLLATE SQL_Latin1_General_CP1_CI_AS NULL, \n",
      "\t[CardType] NVARCHAR(50) COLLATE SQL_Latin1_General_CP1_CI_AS NULL, \n",
      "\t[CardNameHash] NVARCHAR(50) COLLATE SQL_Latin1_General_CP1_CI_AS NULL, \n",
      "\t[CardHolderName] NVARCHAR(50) COLLATE SQL_Latin1_General_CP1_CI_AS NULL\n",
      ")\n",
      "\n",
      "/*\n",
      "3 rows from CheckMaster table:\n",
      "CheckKey\tAccount\tUnit\tActualDate\tCheckNumber\tStoreName\tAddress1\tCity\tState\tZip\tEmployeeNumber\tEmployeeFirstName\tEmployeeLastName\tCheckType\tTableNumber\tCheckOpenDate\tCheckOpenTime\tCheckCloseDate\tCheckCloseTime\tSubTotal\tTax\tTotal\tGuestCount\tRootCheckFlag\tTenderType\tDescription2\tAmount\tTipAmount\tTenderDate\tMaskedCardNumber\tCardType\tCardNameHash\tCardHolderName\n",
      "3520968680\tBRIC\t355\t6/9/2024\t30001\tSand Lake\t8002 Golden Sky Ln\tOrlando\tFL\t32809\t2208400\tJustin\tJacoby-leyva\tPOS\t810\t6/9/2024\t11:01:51 AM\t6/9/2024\t11:02:22 AM\t6.39\t0.42\t6.81\t0\t1\tOther\t#N/A\t#N/A\t#N/A\t#N/A\t#N/A\t#N/A\t#N/A\t#N/A\n",
      "3520968777\tBRIC\t834\t6/9/2024\t3020006\tBraintree\t170 Pearl Street\tBraintree\tMA\t2184\t9827\tOmnivore\tEInterface\tPOS\t0\t6/9/2024\t11:06:30 AM\t6/9/2024\t11:06:32 AM\t78.64\t5.51\t84.15\t4\t1\tOther\t#N/A\t#N/A\t#N/A\t#N/A\t#N/A\t#N/A\t#N/A\t#N/A\n",
      "3520968787\tBRIC\t1819\t6/9/2024\t3020003\tChesterfield Crossing\t12231 Chattanooga Plaza\tMidlothian\tVA\t23112\t9827\tOmnivore\tEInterface\tPOS\t0\t6/9/2024\t11:06:45 AM\t6/9/2024\t11:06:46 AM\t20\t1.2\t21.2\t1\t1\tOther\t#N/A\t#N/A\t#N/A\t#N/A\t#N/A\t#N/A\t#N/A\t#N/A\n",
      "*/\u001b[0m"
     ]
    },
    {
     "name": "stderr",
     "output_type": "stream",
     "text": [
      "2024-08-27 18:13:54,235 - httpx - INFO - HTTP Request: POST https://ai-west-openai.openai.azure.com//openai/deployments/gpt4-o/chat/completions?api-version=2023-12-01-preview \"HTTP/1.1 200 OK\"\n"
     ]
    },
    {
     "name": "stdout",
     "output_type": "stream",
     "text": [
      "\u001b[32;1m\u001b[1;3m\n",
      "Invoking: `sql_db_query_checker` with `{'query': 'SELECT TOP 1 Description, SUM(Quantity) AS TotalQuantity, SUM(Price * Quantity) AS TotalSales FROM CheckDetail GROUP BY Description ORDER BY TotalQuantity DESC'}`\n",
      "\n",
      "\n",
      "\u001b[0m"
     ]
    },
    {
     "name": "stderr",
     "output_type": "stream",
     "text": [
      "2024-08-27 18:13:55,821 - httpx - INFO - HTTP Request: POST https://ai-west-openai.openai.azure.com//openai/deployments/gpt4-o/chat/completions?api-version=2023-12-01-preview \"HTTP/1.1 200 OK\"\n"
     ]
    },
    {
     "name": "stdout",
     "output_type": "stream",
     "text": [
      "\u001b[36;1m\u001b[1;3m```sql\n",
      "SELECT TOP 1 \n",
      "    Description, \n",
      "    SUM(Quantity) AS TotalQuantity, \n",
      "    SUM(Price * Quantity) AS TotalSales \n",
      "FROM \n",
      "    CheckDetail \n",
      "GROUP BY \n",
      "    Description \n",
      "ORDER BY \n",
      "    TotalQuantity DESC\n",
      "```\u001b[0m"
     ]
    },
    {
     "name": "stderr",
     "output_type": "stream",
     "text": [
      "2024-08-27 18:13:56,480 - httpx - INFO - HTTP Request: POST https://ai-west-openai.openai.azure.com//openai/deployments/gpt4-o/chat/completions?api-version=2023-12-01-preview \"HTTP/1.1 200 OK\"\n"
     ]
    },
    {
     "name": "stdout",
     "output_type": "stream",
     "text": [
      "\u001b[32;1m\u001b[1;3m\n",
      "Invoking: `sql_db_query` with `{'query': 'SELECT TOP 1 Description, SUM(Quantity) AS TotalQuantity, SUM(Price * Quantity) AS TotalSales FROM CheckDetail GROUP BY Description ORDER BY TotalQuantity DESC'}`\n",
      "\n",
      "\n",
      "\u001b[0m\u001b[36;1m\u001b[1;3mError: (pyodbc.ProgrammingError) ('42000', '[42000] [Microsoft][ODBC Driver 17 for SQL Server][SQL Server]Operand data type nvarchar is invalid for sum operator. (8117) (SQLExecDirectW)')\n",
      "[SQL: SELECT TOP 1 Description, SUM(Quantity) AS TotalQuantity, SUM(Price * Quantity) AS TotalSales FROM CheckDetail GROUP BY Description ORDER BY TotalQuantity DESC]\n",
      "(Background on this error at: https://sqlalche.me/e/20/f405)\u001b[0m"
     ]
    },
    {
     "name": "stderr",
     "output_type": "stream",
     "text": [
      "2024-08-27 18:13:57,863 - httpx - INFO - HTTP Request: POST https://ai-west-openai.openai.azure.com//openai/deployments/gpt4-o/chat/completions?api-version=2023-12-01-preview \"HTTP/1.1 200 OK\"\n"
     ]
    },
    {
     "name": "stdout",
     "output_type": "stream",
     "text": [
      "\u001b[32;1m\u001b[1;3m\n",
      "Invoking: `sql_db_query_checker` with `{'query': 'SELECT TOP 1 Description, SUM(CAST(Quantity AS INT)) AS TotalQuantity, SUM(CAST(Price AS DECIMAL(10, 2)) * CAST(Quantity AS INT)) AS TotalSales FROM CheckDetail GROUP BY Description ORDER BY TotalQuantity DESC'}`\n",
      "\n",
      "\n",
      "\u001b[0m"
     ]
    },
    {
     "name": "stderr",
     "output_type": "stream",
     "text": [
      "2024-08-27 18:14:03,592 - httpx - INFO - HTTP Request: POST https://ai-west-openai.openai.azure.com//openai/deployments/gpt4-o/chat/completions?api-version=2023-12-01-preview \"HTTP/1.1 200 OK\"\n"
     ]
    },
    {
     "name": "stdout",
     "output_type": "stream",
     "text": [
      "\u001b[36;1m\u001b[1;3m```sql\n",
      "SELECT TOP 1 \n",
      "    Description, \n",
      "    SUM(CAST(Quantity AS INT)) AS TotalQuantity, \n",
      "    SUM(CAST(Price AS DECIMAL(10, 2)) * CAST(Quantity AS INT)) AS TotalSales \n",
      "FROM CheckDetail \n",
      "GROUP BY Description \n",
      "ORDER BY TotalQuantity DESC\n",
      "```\u001b[0m"
     ]
    },
    {
     "name": "stderr",
     "output_type": "stream",
     "text": [
      "2024-08-27 18:14:04,108 - httpx - INFO - HTTP Request: POST https://ai-west-openai.openai.azure.com//openai/deployments/gpt4-o/chat/completions?api-version=2023-12-01-preview \"HTTP/1.1 200 OK\"\n"
     ]
    },
    {
     "name": "stdout",
     "output_type": "stream",
     "text": [
      "\u001b[32;1m\u001b[1;3m\n",
      "Invoking: `sql_db_query` with `{'query': 'SELECT TOP 1 Description, SUM(CAST(Quantity AS INT)) AS TotalQuantity, SUM(CAST(Price AS DECIMAL(10, 2)) * CAST(Quantity AS INT)) AS TotalSales FROM CheckDetail GROUP BY Description ORDER BY TotalQuantity DESC'}`\n",
      "\n",
      "\n",
      "\u001b[0m\u001b[36;1m\u001b[1;3mError: (pyodbc.DataError) ('22018', \"[22018] [Microsoft][ODBC Driver 17 for SQL Server][SQL Server]Conversion failed when converting the nvarchar value '0.5' to data type int. (245) (SQLExecDirectW)\")\n",
      "[SQL: SELECT TOP 1 Description, SUM(CAST(Quantity AS INT)) AS TotalQuantity, SUM(CAST(Price AS DECIMAL(10, 2)) * CAST(Quantity AS INT)) AS TotalSales FROM CheckDetail GROUP BY Description ORDER BY TotalQuantity DESC]\n",
      "(Background on this error at: https://sqlalche.me/e/20/9h9h)\u001b[0m"
     ]
    },
    {
     "name": "stderr",
     "output_type": "stream",
     "text": [
      "2024-08-27 18:14:05,474 - httpx - INFO - HTTP Request: POST https://ai-west-openai.openai.azure.com//openai/deployments/gpt4-o/chat/completions?api-version=2023-12-01-preview \"HTTP/1.1 200 OK\"\n"
     ]
    },
    {
     "name": "stdout",
     "output_type": "stream",
     "text": [
      "\u001b[32;1m\u001b[1;3m\n",
      "Invoking: `sql_db_query_checker` with `{'query': 'SELECT TOP 1 Description, SUM(CAST(Quantity AS DECIMAL(10, 2))) AS TotalQuantity, SUM(CAST(Price AS DECIMAL(10, 2)) * CAST(Quantity AS DECIMAL(10, 2))) AS TotalSales FROM CheckDetail GROUP BY Description ORDER BY TotalQuantity DESC'}`\n",
      "\n",
      "\n",
      "\u001b[0m"
     ]
    },
    {
     "name": "stderr",
     "output_type": "stream",
     "text": [
      "2024-08-27 18:14:08,142 - httpx - INFO - HTTP Request: POST https://ai-west-openai.openai.azure.com//openai/deployments/gpt4-o/chat/completions?api-version=2023-12-01-preview \"HTTP/1.1 200 OK\"\n"
     ]
    },
    {
     "name": "stdout",
     "output_type": "stream",
     "text": [
      "\u001b[36;1m\u001b[1;3m```sql\n",
      "SELECT TOP 1 \n",
      "    Description, \n",
      "    SUM(CAST(Quantity AS DECIMAL(10, 2))) AS TotalQuantity, \n",
      "    SUM(CAST(Price AS DECIMAL(10, 2)) * CAST(Quantity AS DECIMAL(10, 2))) AS TotalSales \n",
      "FROM \n",
      "    CheckDetail \n",
      "GROUP BY \n",
      "    Description \n",
      "ORDER BY \n",
      "    TotalQuantity DESC\n",
      "```\u001b[0m"
     ]
    },
    {
     "name": "stderr",
     "output_type": "stream",
     "text": [
      "2024-08-27 18:14:08,729 - httpx - INFO - HTTP Request: POST https://ai-west-openai.openai.azure.com//openai/deployments/gpt4-o/chat/completions?api-version=2023-12-01-preview \"HTTP/1.1 200 OK\"\n"
     ]
    },
    {
     "name": "stdout",
     "output_type": "stream",
     "text": [
      "\u001b[32;1m\u001b[1;3m\n",
      "Invoking: `sql_db_query` with `{'query': 'SELECT TOP 1 Description, SUM(CAST(Quantity AS DECIMAL(10, 2))) AS TotalQuantity, SUM(CAST(Price AS DECIMAL(10, 2)) * CAST(Quantity AS DECIMAL(10, 2))) AS TotalSales FROM CheckDetail GROUP BY Description ORDER BY TotalQuantity DESC'}`\n",
      "\n",
      "\n",
      "\u001b[0m\u001b[36;1m\u001b[1;3m[('WATER', Decimal('37993.00'), Decimal('0.0000'))]\u001b[0m"
     ]
    },
    {
     "name": "stderr",
     "output_type": "stream",
     "text": [
      "2024-08-27 18:14:18,915 - httpx - INFO - HTTP Request: POST https://ai-west-openai.openai.azure.com//openai/deployments/gpt4-o/chat/completions?api-version=2023-12-01-preview \"HTTP/1.1 200 OK\"\n"
     ]
    },
    {
     "name": "stdout",
     "output_type": "stream",
     "text": [
      "\u001b[32;1m\u001b[1;3m### Final Answer:\n",
      "The most popular menu item is \"WATER\" with a total of 37,993 units sold, and its total sales amount to $0.00.\n",
      "\n",
      "### Explanation:\n",
      "To determine the most popular menu item and its total sales, I queried the `CheckDetail` table to sum up the quantities and total sales for each item description. I ordered the results by the total quantity in descending order and selected the top result. The SQL query used is:\n",
      "\n",
      "```sql\n",
      "SELECT TOP 1 \n",
      "    Description, \n",
      "    SUM(CAST(Quantity AS DECIMAL(10, 2))) AS TotalQuantity, \n",
      "    SUM(CAST(Price AS DECIMAL(10, 2)) * CAST(Quantity AS DECIMAL(10, 2))) AS TotalSales \n",
      "FROM \n",
      "    CheckDetail \n",
      "GROUP BY \n",
      "    Description \n",
      "ORDER BY \n",
      "    TotalQuantity DESC\n",
      "```\n",
      "\n",
      "This query revealed that \"WATER\" is the most popular item with 37,993 units sold, and its total sales amount to $0.00.\u001b[0m\n",
      "\n",
      "\u001b[1m> Finished chain.\u001b[0m\n",
      "Action: tool='sql_db_list_tables' tool_input={} log='\\nInvoking: `sql_db_list_tables` with `{}`\\n\\n\\n' message_log=[AIMessageChunk(content='', additional_kwargs={'tool_calls': [{'index': 0, 'id': 'call_r3an6kzH2j5nG62PcNVPHoKn', 'function': {'arguments': '{}', 'name': 'sql_db_list_tables'}, 'type': 'function'}]}, response_metadata={'finish_reason': 'tool_calls', 'model_name': 'gpt-4o-2024-05-13', 'system_fingerprint': 'fp_abc28019ad'}, id='run-e711e5c0-c299-4199-b49d-4d25665bee94', tool_calls=[{'name': 'sql_db_list_tables', 'args': {}, 'id': 'call_r3an6kzH2j5nG62PcNVPHoKn', 'type': 'tool_call'}], tool_call_chunks=[{'name': 'sql_db_list_tables', 'args': '{}', 'id': 'call_r3an6kzH2j5nG62PcNVPHoKn', 'index': 0, 'type': 'tool_call_chunk'}])] tool_call_id='call_r3an6kzH2j5nG62PcNVPHoKn'\n",
      "Observation: CheckDetail, CheckMaster, ClickStreamData, HeaderDescriptions, SurveyData, SurveyMaster, clickstream, clickstreamfinal, sysdiagrams\n",
      "\n",
      "Action: tool='sql_db_schema' tool_input={'table_names': 'CheckDetail, CheckMaster'} log=\"\\nInvoking: `sql_db_schema` with `{'table_names': 'CheckDetail, CheckMaster'}`\\n\\n\\n\" message_log=[AIMessageChunk(content='', additional_kwargs={'tool_calls': [{'index': 0, 'id': 'call_xv1vIx4e3Kz2xf42oCQINIkQ', 'function': {'arguments': '{\"table_names\":\"CheckDetail, CheckMaster\"}', 'name': 'sql_db_schema'}, 'type': 'function'}]}, response_metadata={'finish_reason': 'tool_calls', 'model_name': 'gpt-4o-2024-05-13', 'system_fingerprint': 'fp_abc28019ad'}, id='run-b4a91ed9-2411-4896-9e6a-66dc2ff6e694', tool_calls=[{'name': 'sql_db_schema', 'args': {'table_names': 'CheckDetail, CheckMaster'}, 'id': 'call_xv1vIx4e3Kz2xf42oCQINIkQ', 'type': 'tool_call'}], tool_call_chunks=[{'name': 'sql_db_schema', 'args': '{\"table_names\":\"CheckDetail, CheckMaster\"}', 'id': 'call_xv1vIx4e3Kz2xf42oCQINIkQ', 'index': 0, 'type': 'tool_call_chunk'}])] tool_call_id='call_xv1vIx4e3Kz2xf42oCQINIkQ'\n",
      "Observation: \n",
      "CREATE TABLE [CheckDetail] (\n",
      "\t[CheckKey] NVARCHAR(50) COLLATE SQL_Latin1_General_CP1_CI_AS NULL, \n",
      "\t[ActualDate] NVARCHAR(50) COLLATE SQL_Latin1_General_CP1_CI_AS NULL, \n",
      "\t[CheckNumber] NVARCHAR(50) COLLATE SQL_Latin1_General_CP1_CI_AS NULL, \n",
      "\t[ItemNumber] NVARCHAR(50) COLLATE SQL_Latin1_General_CP1_CI_AS NULL, \n",
      "\t[Description] NVARCHAR(50) COLLATE SQL_Latin1_General_CP1_CI_AS NULL, \n",
      "\t[Category] NVARCHAR(50) COLLATE SQL_Latin1_General_CP1_CI_AS NULL, \n",
      "\t[ItemSubCategory] NVARCHAR(50) COLLATE SQL_Latin1_General_CP1_CI_AS NULL, \n",
      "\t[Quantity] NVARCHAR(50) COLLATE SQL_Latin1_General_CP1_CI_AS NULL, \n",
      "\t[Price] NVARCHAR(50) COLLATE SQL_Latin1_General_CP1_CI_AS NULL, \n",
      "\t[EmployeeNumber] NVARCHAR(50) COLLATE SQL_Latin1_General_CP1_CI_AS NULL, \n",
      "\t[TableNumber] NVARCHAR(50) COLLATE SQL_Latin1_General_CP1_CI_AS NULL, \n",
      "\t[GuestCount] NVARCHAR(50) COLLATE SQL_Latin1_General_CP1_CI_AS NULL, \n",
      "\tCONSTRAINT [FK_CheckDetail_CheckMaster2] FOREIGN KEY([CheckKey]) REFERENCES [CheckMaster] ([CheckKey])\n",
      ")\n",
      "\n",
      "/*\n",
      "3 rows from CheckDetail table:\n",
      "CheckKey\tActualDate\tCheckNumber\tItemNumber\tDescription\tCategory\tItemSubCategory\tQuantity\tPrice\tEmployeeNumber\tTableNumber\tGuestCount\n",
      "3521186077\t6/9/2024\t3020097\t101040\tAPPLE JUICE\tNon-Alcoholic Beverage\tNon-Alcoholic Beverage\t0\t0\t1713219\t31\t4\n",
      "3521186077\t6/9/2024\t3020097\t9845\tKID JUICE\tNon-Alcoholic Beverage\tNon-Alcoholic Beverage\t0\t0\t1713219\t31\t4\n",
      "3521186077\t6/9/2024\t3020097\t9829\tWATER\tNon-Alcoholic Beverage\tNon-Alcoholic Beverage\t1\t0\t1713219\t31\t4\n",
      "*/\n",
      "\n",
      "\n",
      "CREATE TABLE [CheckMaster] (\n",
      "\t[CheckKey] NVARCHAR(50) COLLATE SQL_Latin1_General_CP1_CI_AS NULL, \n",
      "\t[Account] NVARCHAR(50) COLLATE SQL_Latin1_General_CP1_CI_AS NULL, \n",
      "\t[Unit] NVARCHAR(50) COLLATE SQL_Latin1_General_CP1_CI_AS NULL, \n",
      "\t[ActualDate] NVARCHAR(50) COLLATE SQL_Latin1_General_CP1_CI_AS NULL, \n",
      "\t[CheckNumber] NVARCHAR(50) COLLATE SQL_Latin1_General_CP1_CI_AS NULL, \n",
      "\t[StoreName] NVARCHAR(50) COLLATE SQL_Latin1_General_CP1_CI_AS NULL, \n",
      "\t[Address1] NVARCHAR(50) COLLATE SQL_Latin1_General_CP1_CI_AS NULL, \n",
      "\t[City] NVARCHAR(50) COLLATE SQL_Latin1_General_CP1_CI_AS NULL, \n",
      "\t[State] NVARCHAR(50) COLLATE SQL_Latin1_General_CP1_CI_AS NULL, \n",
      "\t[Zip] NVARCHAR(50) COLLATE SQL_Latin1_General_CP1_CI_AS NULL, \n",
      "\t[EmployeeNumber] NVARCHAR(50) COLLATE SQL_Latin1_General_CP1_CI_AS NULL, \n",
      "\t[EmployeeFirstName] NVARCHAR(50) COLLATE SQL_Latin1_General_CP1_CI_AS NULL, \n",
      "\t[EmployeeLastName] NVARCHAR(50) COLLATE SQL_Latin1_General_CP1_CI_AS NULL, \n",
      "\t[CheckType] NVARCHAR(50) COLLATE SQL_Latin1_General_CP1_CI_AS NULL, \n",
      "\t[TableNumber] NVARCHAR(50) COLLATE SQL_Latin1_General_CP1_CI_AS NULL, \n",
      "\t[CheckOpenDate] NVARCHAR(50) COLLATE SQL_Latin1_General_CP1_CI_AS NULL, \n",
      "\t[CheckOpenTime] NVARCHAR(50) COLLATE SQL_Latin1_General_CP1_CI_AS NULL, \n",
      "\t[CheckCloseDate] NVARCHAR(50) COLLATE SQL_Latin1_General_CP1_CI_AS NULL, \n",
      "\t[CheckCloseTime] NVARCHAR(50) COLLATE SQL_Latin1_General_CP1_CI_AS NULL, \n",
      "\t[SubTotal] NVARCHAR(50) COLLATE SQL_Latin1_General_CP1_CI_AS NULL, \n",
      "\t[Tax] NVARCHAR(50) COLLATE SQL_Latin1_General_CP1_CI_AS NULL, \n",
      "\t[Total] NVARCHAR(50) COLLATE SQL_Latin1_General_CP1_CI_AS NULL, \n",
      "\t[GuestCount] NVARCHAR(50) COLLATE SQL_Latin1_General_CP1_CI_AS NULL, \n",
      "\t[RootCheckFlag] NVARCHAR(50) COLLATE SQL_Latin1_General_CP1_CI_AS NULL, \n",
      "\t[TenderType] NVARCHAR(50) COLLATE SQL_Latin1_General_CP1_CI_AS NULL, \n",
      "\t[Description2] NVARCHAR(50) COLLATE SQL_Latin1_General_CP1_CI_AS NULL, \n",
      "\t[Amount] NVARCHAR(50) COLLATE SQL_Latin1_General_CP1_CI_AS NULL, \n",
      "\t[TipAmount] NVARCHAR(50) COLLATE SQL_Latin1_General_CP1_CI_AS NULL, \n",
      "\t[TenderDate] NVARCHAR(50) COLLATE SQL_Latin1_General_CP1_CI_AS NULL, \n",
      "\t[MaskedCardNumber] NVARCHAR(50) COLLATE SQL_Latin1_General_CP1_CI_AS NULL, \n",
      "\t[CardType] NVARCHAR(50) COLLATE SQL_Latin1_General_CP1_CI_AS NULL, \n",
      "\t[CardNameHash] NVARCHAR(50) COLLATE SQL_Latin1_General_CP1_CI_AS NULL, \n",
      "\t[CardHolderName] NVARCHAR(50) COLLATE SQL_Latin1_General_CP1_CI_AS NULL\n",
      ")\n",
      "\n",
      "/*\n",
      "3 rows from CheckMaster table:\n",
      "CheckKey\tAccount\tUnit\tActualDate\tCheckNumber\tStoreName\tAddress1\tCity\tState\tZip\tEmployeeNumber\tEmployeeFirstName\tEmployeeLastName\tCheckType\tTableNumber\tCheckOpenDate\tCheckOpenTime\tCheckCloseDate\tCheckCloseTime\tSubTotal\tTax\tTotal\tGuestCount\tRootCheckFlag\tTenderType\tDescription2\tAmount\tTipAmount\tTenderDate\tMaskedCardNumber\tCardType\tCardNameHash\tCardHolderName\n",
      "3520968680\tBRIC\t355\t6/9/2024\t30001\tSand Lake\t8002 Golden Sky Ln\tOrlando\tFL\t32809\t2208400\tJustin\tJacoby-leyva\tPOS\t810\t6/9/2024\t11:01:51 AM\t6/9/2024\t11:02:22 AM\t6.39\t0.42\t6.81\t0\t1\tOther\t#N/A\t#N/A\t#N/A\t#N/A\t#N/A\t#N/A\t#N/A\t#N/A\n",
      "3520968777\tBRIC\t834\t6/9/2024\t3020006\tBraintree\t170 Pearl Street\tBraintree\tMA\t2184\t9827\tOmnivore\tEInterface\tPOS\t0\t6/9/2024\t11:06:30 AM\t6/9/2024\t11:06:32 AM\t78.64\t5.51\t84.15\t4\t1\tOther\t#N/A\t#N/A\t#N/A\t#N/A\t#N/A\t#N/A\t#N/A\t#N/A\n",
      "3520968787\tBRIC\t1819\t6/9/2024\t3020003\tChesterfield Crossing\t12231 Chattanooga Plaza\tMidlothian\tVA\t23112\t9827\tOmnivore\tEInterface\tPOS\t0\t6/9/2024\t11:06:45 AM\t6/9/2024\t11:06:46 AM\t20\t1.2\t21.2\t1\t1\tOther\t#N/A\t#N/A\t#N/A\t#N/A\t#N/A\t#N/A\t#N/A\t#N/A\n",
      "*/\n",
      "\n",
      "Action: tool='sql_db_query_checker' tool_input={'query': 'SELECT TOP 1 Description, SUM(Quantity) AS TotalQuantity, SUM(Price * Quantity) AS TotalSales FROM CheckDetail GROUP BY Description ORDER BY TotalQuantity DESC'} log=\"\\nInvoking: `sql_db_query_checker` with `{'query': 'SELECT TOP 1 Description, SUM(Quantity) AS TotalQuantity, SUM(Price * Quantity) AS TotalSales FROM CheckDetail GROUP BY Description ORDER BY TotalQuantity DESC'}`\\n\\n\\n\" message_log=[AIMessageChunk(content='', additional_kwargs={'tool_calls': [{'index': 0, 'id': 'call_111AfR8No12keYl2rbYf5V7h', 'function': {'arguments': '{\"query\":\"SELECT TOP 1 Description, SUM(Quantity) AS TotalQuantity, SUM(Price * Quantity) AS TotalSales FROM CheckDetail GROUP BY Description ORDER BY TotalQuantity DESC\"}', 'name': 'sql_db_query_checker'}, 'type': 'function'}]}, response_metadata={'finish_reason': 'tool_calls', 'model_name': 'gpt-4o-2024-05-13', 'system_fingerprint': 'fp_abc28019ad'}, id='run-c85594a6-3257-4a86-82c5-b273da4b226f', tool_calls=[{'name': 'sql_db_query_checker', 'args': {'query': 'SELECT TOP 1 Description, SUM(Quantity) AS TotalQuantity, SUM(Price * Quantity) AS TotalSales FROM CheckDetail GROUP BY Description ORDER BY TotalQuantity DESC'}, 'id': 'call_111AfR8No12keYl2rbYf5V7h', 'type': 'tool_call'}], tool_call_chunks=[{'name': 'sql_db_query_checker', 'args': '{\"query\":\"SELECT TOP 1 Description, SUM(Quantity) AS TotalQuantity, SUM(Price * Quantity) AS TotalSales FROM CheckDetail GROUP BY Description ORDER BY TotalQuantity DESC\"}', 'id': 'call_111AfR8No12keYl2rbYf5V7h', 'index': 0, 'type': 'tool_call_chunk'}])] tool_call_id='call_111AfR8No12keYl2rbYf5V7h'\n",
      "Observation: ```sql\n",
      "SELECT TOP 1 \n",
      "    Description, \n",
      "    SUM(Quantity) AS TotalQuantity, \n",
      "    SUM(Price * Quantity) AS TotalSales \n",
      "FROM \n",
      "    CheckDetail \n",
      "GROUP BY \n",
      "    Description \n",
      "ORDER BY \n",
      "    TotalQuantity DESC\n",
      "```\n",
      "\n",
      "Action: tool='sql_db_query' tool_input={'query': 'SELECT TOP 1 Description, SUM(Quantity) AS TotalQuantity, SUM(Price * Quantity) AS TotalSales FROM CheckDetail GROUP BY Description ORDER BY TotalQuantity DESC'} log=\"\\nInvoking: `sql_db_query` with `{'query': 'SELECT TOP 1 Description, SUM(Quantity) AS TotalQuantity, SUM(Price * Quantity) AS TotalSales FROM CheckDetail GROUP BY Description ORDER BY TotalQuantity DESC'}`\\n\\n\\n\" message_log=[AIMessageChunk(content='', additional_kwargs={'tool_calls': [{'index': 0, 'id': 'call_vASBfum0isrfpQHe7eUXiwjt', 'function': {'arguments': '{\"query\":\"SELECT TOP 1 Description, SUM(Quantity) AS TotalQuantity, SUM(Price * Quantity) AS TotalSales FROM CheckDetail GROUP BY Description ORDER BY TotalQuantity DESC\"}', 'name': 'sql_db_query'}, 'type': 'function'}]}, response_metadata={'finish_reason': 'tool_calls', 'model_name': 'gpt-4o-2024-05-13', 'system_fingerprint': 'fp_abc28019ad'}, id='run-e3b5b318-3426-4931-b22e-be5d893bfd64', tool_calls=[{'name': 'sql_db_query', 'args': {'query': 'SELECT TOP 1 Description, SUM(Quantity) AS TotalQuantity, SUM(Price * Quantity) AS TotalSales FROM CheckDetail GROUP BY Description ORDER BY TotalQuantity DESC'}, 'id': 'call_vASBfum0isrfpQHe7eUXiwjt', 'type': 'tool_call'}], tool_call_chunks=[{'name': 'sql_db_query', 'args': '{\"query\":\"SELECT TOP 1 Description, SUM(Quantity) AS TotalQuantity, SUM(Price * Quantity) AS TotalSales FROM CheckDetail GROUP BY Description ORDER BY TotalQuantity DESC\"}', 'id': 'call_vASBfum0isrfpQHe7eUXiwjt', 'index': 0, 'type': 'tool_call_chunk'}])] tool_call_id='call_vASBfum0isrfpQHe7eUXiwjt'\n",
      "Observation: Error: (pyodbc.ProgrammingError) ('42000', '[42000] [Microsoft][ODBC Driver 17 for SQL Server][SQL Server]Operand data type nvarchar is invalid for sum operator. (8117) (SQLExecDirectW)')\n",
      "[SQL: SELECT TOP 1 Description, SUM(Quantity) AS TotalQuantity, SUM(Price * Quantity) AS TotalSales FROM CheckDetail GROUP BY Description ORDER BY TotalQuantity DESC]\n",
      "(Background on this error at: https://sqlalche.me/e/20/f405)\n",
      "\n",
      "Action: tool='sql_db_query_checker' tool_input={'query': 'SELECT TOP 1 Description, SUM(CAST(Quantity AS INT)) AS TotalQuantity, SUM(CAST(Price AS DECIMAL(10, 2)) * CAST(Quantity AS INT)) AS TotalSales FROM CheckDetail GROUP BY Description ORDER BY TotalQuantity DESC'} log=\"\\nInvoking: `sql_db_query_checker` with `{'query': 'SELECT TOP 1 Description, SUM(CAST(Quantity AS INT)) AS TotalQuantity, SUM(CAST(Price AS DECIMAL(10, 2)) * CAST(Quantity AS INT)) AS TotalSales FROM CheckDetail GROUP BY Description ORDER BY TotalQuantity DESC'}`\\n\\n\\n\" message_log=[AIMessageChunk(content='', additional_kwargs={'tool_calls': [{'index': 0, 'id': 'call_DxPDPZUhpSxJi5eoHmL9QrW8', 'function': {'arguments': '{\"query\":\"SELECT TOP 1 Description, SUM(CAST(Quantity AS INT)) AS TotalQuantity, SUM(CAST(Price AS DECIMAL(10, 2)) * CAST(Quantity AS INT)) AS TotalSales FROM CheckDetail GROUP BY Description ORDER BY TotalQuantity DESC\"}', 'name': 'sql_db_query_checker'}, 'type': 'function'}]}, response_metadata={'finish_reason': 'tool_calls', 'model_name': 'gpt-4o-2024-05-13', 'system_fingerprint': 'fp_abc28019ad'}, id='run-6f15f6c5-0d34-49e0-a828-9329b041e194', tool_calls=[{'name': 'sql_db_query_checker', 'args': {'query': 'SELECT TOP 1 Description, SUM(CAST(Quantity AS INT)) AS TotalQuantity, SUM(CAST(Price AS DECIMAL(10, 2)) * CAST(Quantity AS INT)) AS TotalSales FROM CheckDetail GROUP BY Description ORDER BY TotalQuantity DESC'}, 'id': 'call_DxPDPZUhpSxJi5eoHmL9QrW8', 'type': 'tool_call'}], tool_call_chunks=[{'name': 'sql_db_query_checker', 'args': '{\"query\":\"SELECT TOP 1 Description, SUM(CAST(Quantity AS INT)) AS TotalQuantity, SUM(CAST(Price AS DECIMAL(10, 2)) * CAST(Quantity AS INT)) AS TotalSales FROM CheckDetail GROUP BY Description ORDER BY TotalQuantity DESC\"}', 'id': 'call_DxPDPZUhpSxJi5eoHmL9QrW8', 'index': 0, 'type': 'tool_call_chunk'}])] tool_call_id='call_DxPDPZUhpSxJi5eoHmL9QrW8'\n",
      "Observation: ```sql\n",
      "SELECT TOP 1 \n",
      "    Description, \n",
      "    SUM(CAST(Quantity AS INT)) AS TotalQuantity, \n",
      "    SUM(CAST(Price AS DECIMAL(10, 2)) * CAST(Quantity AS INT)) AS TotalSales \n",
      "FROM CheckDetail \n",
      "GROUP BY Description \n",
      "ORDER BY TotalQuantity DESC\n",
      "```\n",
      "\n",
      "Action: tool='sql_db_query' tool_input={'query': 'SELECT TOP 1 Description, SUM(CAST(Quantity AS INT)) AS TotalQuantity, SUM(CAST(Price AS DECIMAL(10, 2)) * CAST(Quantity AS INT)) AS TotalSales FROM CheckDetail GROUP BY Description ORDER BY TotalQuantity DESC'} log=\"\\nInvoking: `sql_db_query` with `{'query': 'SELECT TOP 1 Description, SUM(CAST(Quantity AS INT)) AS TotalQuantity, SUM(CAST(Price AS DECIMAL(10, 2)) * CAST(Quantity AS INT)) AS TotalSales FROM CheckDetail GROUP BY Description ORDER BY TotalQuantity DESC'}`\\n\\n\\n\" message_log=[AIMessageChunk(content='', additional_kwargs={'tool_calls': [{'index': 0, 'id': 'call_dKHGu7UYz0Vh7HFgOqCTkvOV', 'function': {'arguments': '{\"query\":\"SELECT TOP 1 Description, SUM(CAST(Quantity AS INT)) AS TotalQuantity, SUM(CAST(Price AS DECIMAL(10, 2)) * CAST(Quantity AS INT)) AS TotalSales FROM CheckDetail GROUP BY Description ORDER BY TotalQuantity DESC\"}', 'name': 'sql_db_query'}, 'type': 'function'}]}, response_metadata={'finish_reason': 'tool_calls', 'model_name': 'gpt-4o-2024-05-13', 'system_fingerprint': 'fp_abc28019ad'}, id='run-59915323-c2ac-4b57-bfed-7b2cf374d521', tool_calls=[{'name': 'sql_db_query', 'args': {'query': 'SELECT TOP 1 Description, SUM(CAST(Quantity AS INT)) AS TotalQuantity, SUM(CAST(Price AS DECIMAL(10, 2)) * CAST(Quantity AS INT)) AS TotalSales FROM CheckDetail GROUP BY Description ORDER BY TotalQuantity DESC'}, 'id': 'call_dKHGu7UYz0Vh7HFgOqCTkvOV', 'type': 'tool_call'}], tool_call_chunks=[{'name': 'sql_db_query', 'args': '{\"query\":\"SELECT TOP 1 Description, SUM(CAST(Quantity AS INT)) AS TotalQuantity, SUM(CAST(Price AS DECIMAL(10, 2)) * CAST(Quantity AS INT)) AS TotalSales FROM CheckDetail GROUP BY Description ORDER BY TotalQuantity DESC\"}', 'id': 'call_dKHGu7UYz0Vh7HFgOqCTkvOV', 'index': 0, 'type': 'tool_call_chunk'}])] tool_call_id='call_dKHGu7UYz0Vh7HFgOqCTkvOV'\n",
      "Observation: Error: (pyodbc.DataError) ('22018', \"[22018] [Microsoft][ODBC Driver 17 for SQL Server][SQL Server]Conversion failed when converting the nvarchar value '0.5' to data type int. (245) (SQLExecDirectW)\")\n",
      "[SQL: SELECT TOP 1 Description, SUM(CAST(Quantity AS INT)) AS TotalQuantity, SUM(CAST(Price AS DECIMAL(10, 2)) * CAST(Quantity AS INT)) AS TotalSales FROM CheckDetail GROUP BY Description ORDER BY TotalQuantity DESC]\n",
      "(Background on this error at: https://sqlalche.me/e/20/9h9h)\n",
      "\n",
      "Action: tool='sql_db_query_checker' tool_input={'query': 'SELECT TOP 1 Description, SUM(CAST(Quantity AS DECIMAL(10, 2))) AS TotalQuantity, SUM(CAST(Price AS DECIMAL(10, 2)) * CAST(Quantity AS DECIMAL(10, 2))) AS TotalSales FROM CheckDetail GROUP BY Description ORDER BY TotalQuantity DESC'} log=\"\\nInvoking: `sql_db_query_checker` with `{'query': 'SELECT TOP 1 Description, SUM(CAST(Quantity AS DECIMAL(10, 2))) AS TotalQuantity, SUM(CAST(Price AS DECIMAL(10, 2)) * CAST(Quantity AS DECIMAL(10, 2))) AS TotalSales FROM CheckDetail GROUP BY Description ORDER BY TotalQuantity DESC'}`\\n\\n\\n\" message_log=[AIMessageChunk(content='', additional_kwargs={'tool_calls': [{'index': 0, 'id': 'call_dox9dy84pWUReOwsQuchdBXB', 'function': {'arguments': '{\"query\":\"SELECT TOP 1 Description, SUM(CAST(Quantity AS DECIMAL(10, 2))) AS TotalQuantity, SUM(CAST(Price AS DECIMAL(10, 2)) * CAST(Quantity AS DECIMAL(10, 2))) AS TotalSales FROM CheckDetail GROUP BY Description ORDER BY TotalQuantity DESC\"}', 'name': 'sql_db_query_checker'}, 'type': 'function'}]}, response_metadata={'finish_reason': 'tool_calls', 'model_name': 'gpt-4o-2024-05-13', 'system_fingerprint': 'fp_abc28019ad'}, id='run-66d292d2-f0f2-4a2b-847f-f6d87982c23f', tool_calls=[{'name': 'sql_db_query_checker', 'args': {'query': 'SELECT TOP 1 Description, SUM(CAST(Quantity AS DECIMAL(10, 2))) AS TotalQuantity, SUM(CAST(Price AS DECIMAL(10, 2)) * CAST(Quantity AS DECIMAL(10, 2))) AS TotalSales FROM CheckDetail GROUP BY Description ORDER BY TotalQuantity DESC'}, 'id': 'call_dox9dy84pWUReOwsQuchdBXB', 'type': 'tool_call'}], tool_call_chunks=[{'name': 'sql_db_query_checker', 'args': '{\"query\":\"SELECT TOP 1 Description, SUM(CAST(Quantity AS DECIMAL(10, 2))) AS TotalQuantity, SUM(CAST(Price AS DECIMAL(10, 2)) * CAST(Quantity AS DECIMAL(10, 2))) AS TotalSales FROM CheckDetail GROUP BY Description ORDER BY TotalQuantity DESC\"}', 'id': 'call_dox9dy84pWUReOwsQuchdBXB', 'index': 0, 'type': 'tool_call_chunk'}])] tool_call_id='call_dox9dy84pWUReOwsQuchdBXB'\n",
      "Observation: ```sql\n",
      "SELECT TOP 1 \n",
      "    Description, \n",
      "    SUM(CAST(Quantity AS DECIMAL(10, 2))) AS TotalQuantity, \n",
      "    SUM(CAST(Price AS DECIMAL(10, 2)) * CAST(Quantity AS DECIMAL(10, 2))) AS TotalSales \n",
      "FROM \n",
      "    CheckDetail \n",
      "GROUP BY \n",
      "    Description \n",
      "ORDER BY \n",
      "    TotalQuantity DESC\n",
      "```\n",
      "\n",
      "Action: tool='sql_db_query' tool_input={'query': 'SELECT TOP 1 Description, SUM(CAST(Quantity AS DECIMAL(10, 2))) AS TotalQuantity, SUM(CAST(Price AS DECIMAL(10, 2)) * CAST(Quantity AS DECIMAL(10, 2))) AS TotalSales FROM CheckDetail GROUP BY Description ORDER BY TotalQuantity DESC'} log=\"\\nInvoking: `sql_db_query` with `{'query': 'SELECT TOP 1 Description, SUM(CAST(Quantity AS DECIMAL(10, 2))) AS TotalQuantity, SUM(CAST(Price AS DECIMAL(10, 2)) * CAST(Quantity AS DECIMAL(10, 2))) AS TotalSales FROM CheckDetail GROUP BY Description ORDER BY TotalQuantity DESC'}`\\n\\n\\n\" message_log=[AIMessageChunk(content='', additional_kwargs={'tool_calls': [{'index': 0, 'id': 'call_EgAXC2Bdkaqg7Mw34QOm77P8', 'function': {'arguments': '{\"query\":\"SELECT TOP 1 Description, SUM(CAST(Quantity AS DECIMAL(10, 2))) AS TotalQuantity, SUM(CAST(Price AS DECIMAL(10, 2)) * CAST(Quantity AS DECIMAL(10, 2))) AS TotalSales FROM CheckDetail GROUP BY Description ORDER BY TotalQuantity DESC\"}', 'name': 'sql_db_query'}, 'type': 'function'}]}, response_metadata={'finish_reason': 'tool_calls', 'model_name': 'gpt-4o-2024-05-13', 'system_fingerprint': 'fp_abc28019ad'}, id='run-ad800d9c-0a74-4329-b450-6c3bd09d354f', tool_calls=[{'name': 'sql_db_query', 'args': {'query': 'SELECT TOP 1 Description, SUM(CAST(Quantity AS DECIMAL(10, 2))) AS TotalQuantity, SUM(CAST(Price AS DECIMAL(10, 2)) * CAST(Quantity AS DECIMAL(10, 2))) AS TotalSales FROM CheckDetail GROUP BY Description ORDER BY TotalQuantity DESC'}, 'id': 'call_EgAXC2Bdkaqg7Mw34QOm77P8', 'type': 'tool_call'}], tool_call_chunks=[{'name': 'sql_db_query', 'args': '{\"query\":\"SELECT TOP 1 Description, SUM(CAST(Quantity AS DECIMAL(10, 2))) AS TotalQuantity, SUM(CAST(Price AS DECIMAL(10, 2)) * CAST(Quantity AS DECIMAL(10, 2))) AS TotalSales FROM CheckDetail GROUP BY Description ORDER BY TotalQuantity DESC\"}', 'id': 'call_EgAXC2Bdkaqg7Mw34QOm77P8', 'index': 0, 'type': 'tool_call_chunk'}])] tool_call_id='call_EgAXC2Bdkaqg7Mw34QOm77P8'\n",
      "Observation: [('WATER', Decimal('37993.00'), Decimal('0.0000'))]\n",
      "\n"
     ]
    }
   ],
   "source": [
    "#####################################################\n",
    "## Invoke the Langchain SqlAgent with User Prompt\n",
    "#####################################################\n",
    "#\n",
    "# Experimenal Code to use later:\n",
    "# final_prompt = f\"{PREFIX}\\n\\n{FORMAT_INSTRUCTIONS.format(tool_names=tool_names)}\\n\\n{SUFFIX.format(input=input_question, agent_scratchpad=agent_scratchpad)}\"\n",
    "# final_prompt = f\"{PREFIX}\\n\\n{SUFFIX}\"\n",
    "\n",
    "# Invoke the SQL agent with the natural language question\n",
    "# The agent will generate a SQL query based on the input question   \n",
    "# and execute the query against the connected database.\n",
    "# The response contains the query result and other relevant information.\n",
    "# The response is a dictionary with keys such as 'query', 'result', 'intermediate_steps', and 'execution_time'.\n",
    "try:\n",
    "    # Callback() is context manager that provides a callback handler for OpenAI API calls. We use it to track token usage and cost.\n",
    "    with get_openai_callback() as cb:\n",
    "        response = agent_executor.invoke(user_prompt)\n",
    "        # {\n",
    "        #     \"question\": QUESTION        \n",
    "        #     # \"chat_history\": None\n",
    "        #     # \"callback\": cb\n",
    "        # }\n",
    "        # response = agent_executor.invoke(QUESTION) \n",
    "except Exception as e:\n",
    "    response = str(e)\n",
    "\n",
    "#####################################################\n",
    "## Advanced Logging Block\n",
    "#####################################################\n",
    "# This code block iterates through the intermediate steps of the response.\n",
    "# It extracts the action and observation for each step and prints them.\n",
    "# The block reveals the agent's decision-making process.\n",
    "# # 'show_query_execution_steps' enabes/disables this block.\n",
    "if show_query_execution_steps: \n",
    "    # Iterate through each step in the 'intermediate_steps' list from the response\n",
    "    for step in response['intermediate_steps']:\n",
    "         # Check if the current step is a dictionary\n",
    "        if isinstance(step, dict):\n",
    "            # Extract 'action' and 'observation' from the step, defaulting to empty string if not found\n",
    "            action = step.get('action', '')\n",
    "            observation = step.get('observation', '')\n",
    "\n",
    "        # Check if the current step is a tuple (assumed to be a pair of action and observation)\n",
    "        elif isinstance(step, tuple):\n",
    "            # Unpack the tuple directly into action and observation variables\n",
    "            action, observation = step \n",
    "\n",
    "        else:\n",
    "            # Handle unexpected step types by printing a warning and skipping the current iteration\n",
    "            print(f\"Unexpected step type: {type(step)}\")\n",
    "            continue  # Skip this step if it's neither dict nor tuple\n",
    "\n",
    "        # Print the action and observation for the current step\n",
    "        print(f\"Action: {action}\\nObservation: {observation}\\n\")"
   ]
  },
  {
   "cell_type": "markdown",
   "metadata": {},
   "source": [
    "#### Final Answer"
   ]
  },
  {
   "cell_type": "code",
   "execution_count": 7,
   "metadata": {
    "ExecuteTime": {
     "start_time": "2024-08-16T01:38:04.392194100Z"
    }
   },
   "outputs": [
    {
     "name": "stdout",
     "output_type": "stream",
     "text": [
      "Total Tokens: 727\n",
      "Prompt Tokens: 521\n",
      "Completion Tokens: 206\n",
      "Total Cost (USD): 0.005695\n",
      "\n",
      "Prompt: \n",
      "\t\tWhat is the most popular menu item and what are it's total sales?\n",
      "\n",
      "\n",
      "Final Answer: Final Answer:\n",
      "The most popular menu item is \"WATER\" with a total of 37,993 units sold, and its total sales amount to $0.00.\n",
      "\n",
      "SQL Statement: SELECT TOP 1 \n",
      "    Description, \n",
      "    SUM(CAST(Quantity AS DECIMAL(10, 2))) AS TotalQuantity, \n",
      "    SUM(CAST(Price AS DECIMAL(10, 2)) * CAST(Quantity AS DECIMAL(10, 2))) AS TotalSales \n",
      "FROM \n",
      "    CheckDetail \n",
      "GROUP BY \n",
      "    Description \n",
      "ORDER BY \n",
      "    TotalQuantity DESC\n",
      "```\n",
      "\n",
      "This query revealed that \"WATER\" is the most popular item with 37,993 units sold, and its total sales amount to $0.00.\n",
      "\n",
      "Explanation: ### \n",
      "\n",
      "### Explanation:\n",
      "To determine the most popular menu item and its total sales, I queried the `CheckDetail` table to sum up the quantities and total sales for each item description. I ordered the results by the total quantity in descending order and selected the top result. The SQL query used is:\n",
      "\n",
      "```sql\n",
      "SELECT TOP 1 \n",
      "    Description, \n",
      "    SUM(CAST(Quantity AS DECIMAL(10, 2))) AS TotalQuantity, \n",
      "    SUM(CAST(Price AS DECIMAL(10, 2)) * CAST(Quantity AS DECIMAL(10, 2))) AS TotalSales \n",
      "FROM \n",
      "    CheckDetail \n",
      "GROUP BY \n",
      "    Description \n",
      "ORDER BY \n",
      "    TotalQuantity DESC\n",
      "```\n",
      "\n",
      "This query revealed that \"WATER\" is the most popular item with 37,993 units sold, and its total sales amount to $0.00.\n",
      "\n",
      "Explanation: ### Final Answer:\n",
      "The most popular menu item is \"WATER\" with a total of 37,993 units sold, and its total sales amount to $0.00.\n",
      "\n",
      "### Explanation:\n",
      "To determine the most popular menu item and its total sales, I queried the `CheckDetail` table to sum up the quantities and total sales for each item description. I ordered the results by the total quantity in descending order and selected the top result. The SQL query used is:\n",
      "\n",
      "```sql\n",
      "SELECT TOP 1 \n",
      "    Description, \n",
      "    SUM(CAST(Quantity AS DECIMAL(10, 2))) AS TotalQuantity, \n",
      "    SUM(CAST(Price AS DECIMAL(10, 2)) * CAST(Quantity AS DECIMAL(10, 2))) AS TotalSales \n",
      "FROM \n",
      "    CheckDetail \n",
      "GROUP BY \n",
      "    Description \n",
      "ORDER BY \n",
      "    TotalQuantity DESC\n",
      "```\n",
      "\n",
      "This query revealed that \"WATER\" is the most popular item with 37,993 units sold, and its total sales amount to $0.00.\n",
      "\n"
     ]
    },
    {
     "data": {
      "text/markdown": [
       "Complete"
      ],
      "text/plain": [
       "<IPython.core.display.Markdown object>"
      ]
     },
     "metadata": {},
     "output_type": "display_data"
    }
   ],
   "source": [
    "#####################################################\n",
    "## Craft the response\n",
    "#####################################################\n",
    "\n",
    "class SqlExtraction():\n",
    "    prompt: str\n",
    "    response: str\n",
    "    final_answer: str\n",
    "    output_without_final_answer: str\n",
    "    sql_statement: str\n",
    "    prompt_tokens: int\n",
    "    completion_tokens: int\n",
    "    total_tokens: int\n",
    "    total_cost: float\n",
    "\n",
    "    try:\n",
    "        print(\"Total Tokens: {}\".format(cb.total_tokens))\n",
    "        print(\"Prompt Tokens: {}\".format(cb.prompt_tokens))\n",
    "        print(\"Completion Tokens: {}\".format(cb.completion_tokens))\n",
    "        print(\"Total Cost (USD): {}\".format(cb.total_cost))\n",
    "        print()  # Insert a newline\n",
    "\n",
    "        # Extract the \"Final Answer:\" part from the response[\"output\"]\n",
    "        # match = re.search(r'Final Answer:.*?(?=\\n\\n|$)', response[\"output\"], re.DOTALL)\n",
    "        # final_answer = match.group(0) if match else \"Final Answer not found.\"\n",
    "\n",
    "        # Extract the 'Final Answer' from the response[\"output\"]\n",
    "        match = re.search(r'Final Answer:.*?(?=\\n\\n|$)', response[\"output\"], re.DOTALL)\n",
    "        final_answer = match.group(0).strip() if match else \"Final Answer not found.\"\n",
    "\n",
    "        # Remove the \"Final Answer:\" part from the response[\"output\"]\n",
    "        explanation = re.sub(r'Final Answer:.*?(?=\\n\\n|$)', '', response[\"output\"], flags=re.DOTALL).strip()\n",
    "\n",
    "        explanation2 = re.search(r'Explanation:.*?(?=\\n\\n|$)', response[\"output\"], re.DOTALL)\n",
    "\n",
    "        # sql = re.search(r'SELECT.*', response[\"output\"], re.DOTALL)\n",
    "        # # Extract the SQL statement from the final answer\n",
    "        # sql_statement_match = re.search(r'SELECT.*', final_answer, re.DOTALL)\n",
    "        # sql_statement = sql_statement_match.group(0) if sql_statement_match else \"SQL statement not found.\"\n",
    "\n",
    "        print(\"Prompt: {}\".format(user_prompt))\n",
    "        print()  # Insert a newline\n",
    "\n",
    "        print(\"Final Answer: {}\".format(final_answer))\n",
    "        print()  # Insert a newline\n",
    "\n",
    "        # Extract the SQL statement from the response[\"output\"]\n",
    "        sql_match = re.search(r'SELECT.*?(?=Explanation:|$)', response[\"output\"], re.DOTALL)\n",
    "        sql_statement = sql_match.group(0).strip() if sql_match else \"SQL statement not found.\"\n",
    "        print(\"SQL Statement: {}\".format(sql_statement))\n",
    "        print()  # Insert a newline\n",
    "\n",
    "        print(\"Explanation: {}\".format(explanation))            \n",
    "        print()  # Insert a newline\n",
    "    except Exception as e:\n",
    "        print(f\"An error occurred: {e}\")\n",
    "        raise RuntimeError(\"An error occurred while extracting the SQL statement.\") from e\n",
    "\n",
    "printmd(f\"Complete\")"
   ]
  }
 ],
 "metadata": {
  "kernelspec": {
   "display_name": "base",
   "language": "python",
   "name": "python3"
  },
  "language_info": {
   "codemirror_mode": {
    "name": "ipython",
    "version": 3
   },
   "file_extension": ".py",
   "mimetype": "text/x-python",
   "name": "python",
   "nbconvert_exporter": "python",
   "pygments_lexer": "ipython3",
   "version": "3.12.1"
  }
 },
 "nbformat": 4,
 "nbformat_minor": 2
}
